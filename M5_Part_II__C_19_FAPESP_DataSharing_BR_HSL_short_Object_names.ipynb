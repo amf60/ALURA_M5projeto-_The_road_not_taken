{
  "nbformat": 4,
  "nbformat_minor": 0,
  "metadata": {
    "colab": {
      "name": "M5 - Part II_ C_19_FAPESP_DataSharing_BR_HSL_short_Object_names.ipynb",
      "provenance": [],
      "mount_file_id": "109Bi3yX4U476_ONyhaFF43vr2nKrk-f8",
      "authorship_tag": "ABX9TyO4mUmBGkAMMgqVqrewRjqg",
      "include_colab_link": true
    },
    "kernelspec": {
      "name": "python3",
      "display_name": "Python 3"
    },
    "language_info": {
      "name": "python"
    }
  },
  "cells": [
    {
      "cell_type": "markdown",
      "metadata": {
        "id": "view-in-github",
        "colab_type": "text"
      },
      "source": [
        "<a href=\"https://colab.research.google.com/github/amf60/ALURA_M5projeto-_The_road_not_taken/blob/main/M5_Part_II__C_19_FAPESP_DataSharing_BR_HSL_short_Object_names.ipynb\" target=\"_parent\"><img src=\"https://colab.research.google.com/assets/colab-badge.svg\" alt=\"Open In Colab\"/></a>"
      ]
    },
    {
      "cell_type": "code",
      "metadata": {
        "id": "40j18D9hF-EM",
        "colab": {
          "base_uri": "https://localhost:8080/"
        },
        "outputId": "7ebb7dd0-4116-4582-80ba-6c4809d2516e"
      },
      "source": [
        "import pandas as pd\n",
        "import numpy as np\n",
        "\n",
        "print('Versão do pandas -> %s' % pd.__version__)\n",
        "print('Versão do numpy -> %s' % np.__version__)"
      ],
      "execution_count": 177,
      "outputs": [
        {
          "output_type": "stream",
          "text": [
            "Versão do pandas -> 1.1.5\n",
            "Versão do numpy -> 1.19.5\n"
          ],
          "name": "stdout"
        }
      ]
    },
    {
      "cell_type": "markdown",
      "metadata": {
        "id": "Jr1HF6xEqvNZ"
      },
      "source": [
        "On 03 Aug 2021, I came across this repository [FAPESP - COVID-19 Data Sharing/BR](https://repositoriodatasharingfapesp.uspdigital.usp.br/), where I found a repository named [Dados COVID Hospital Sírio-Libanês](https://repositoriodatasharingfapesp.uspdigital.usp.br/handle/item/97).\n",
        "\n",
        "At first sight the material above covers the same subject that the one presented in [Kaggle's 'competition'](https://www.kaggle.com/S%C3%ADrio-Libanes/covid19) and used in the Modules 4 and 5 of the Alura Bootcamp APPLIED Data Sciences.\n",
        "\n",
        "According the FAPESP's webiste, the Hospital Sirio Libanes (HSL) added its first contribution to this repository on 30 June 2020, (so about the same time of the last update was done to the Kaggle repository). \n",
        "\n",
        "The HSL latest and most updated in the FAPESP repository, was added in June 2021 (**'HSL_Junho2021.zip'**) and contains 3 csv datasets and an excel dictionnary:\n",
        "\n",
        "* HSL_Pacientes.csv\n",
        "* HSL_Exames.csv\n",
        "* HSL_Desfechos.csv\n",
        "* HSL_Dicionario.xlsx\n",
        "\n",
        "https://repositoriodatasharingfapesp.uspdigital.usp.br/handle/item/97?show=full\n",
        "\n",
        "I decided to explore them and check if I could find any temporal overlap with the Kaggle' sl_k_original dataset and/or useful material that might help me deliver my Alura Bootcamp project for the Module 5.\n",
        "\n",
        "After review of the sl_k_original dataset from Kaggle I only rescued a small set of informative'General Features'. Therefore, I worked on the **'HSL_Junho2021.zip'** files and derived a similar small set of informative 'General Features', matching the time period set in sl_k_original.\n",
        "\n",
        "This work is presented here after:"
      ]
    },
    {
      "cell_type": "markdown",
      "metadata": {
        "id": "3Mi0zhwG9FIr"
      },
      "source": [
        "#First a brief summary of the transformation procedures that will be done here after:\n",
        "\n",
        "#I) dataset HSL_Exames.csv - the modifications done are:\n",
        "\n",
        "1.  **DE_EXAME**, **DE_ANALITO** and **DE_RESULTADO**: The original dataset HSL_Exames.csv has a total of <font color = 'orange'>**2.952.999 rows**</font> × 9 columns. \n",
        "\n",
        "I first filtered the original HSL_Exames.csv using the value result 'DETECTADO' from the variable 'DE_RESULTADO'. All the results obtained from this filter, a total of<font color = 'orange'> **12.145 rows**</font>, corresponded to the **DE_EXAME** as '*COVID-19-PCR para SARS-COV-2, V√°rios Materiais (Fleury)*'.\n",
        "\n",
        "2. **'DT-COLETA'** - To try to match the same period as Kaggle - SL dataset (28 Jan 2020 to 16 April 2020) I then selected only covid_19 test showing results as 'DETECTED' from 14 March 2020 (first date available in ) to 16 April 2020.\n",
        "\n",
        "I ordered it by 'DT-COLETA' (date of sample collection) and 'PATIENT_ID'. First date wiht the above result on 14 Mar 2021 and last date with result on 12 Jun 2021. A total of <font color = 'orange'>984 rows</font>.\n",
        "\n",
        "3.  **'DE_ORIGEM'** - out of the initial 13 diferent'DE_ORIGEM' categories I only selected the covid-19 detected results from 4 'DE_ORIGEM' categories that, on my opinion, implies an hospitalisation ('Pronto Socorro', 'Recepcao do Centro de Diagnositico', 'Unidades de Internacao' and 'UTI').A total of <font color = 'orange'>**403 rows** </font>covid_19 detected results.\n",
        "\n",
        "From the above, I removed 9 rows where the patient year of birth as anonymized(YYYY) on request (please check HSL_Dicionario.xlsx).\n",
        "\n",
        "I also replaced 10 year of birth from 'AAAA\" to 1930, so I could get their age for age_percentile and age_above65.\n",
        "\n",
        "Therefore the final workable dataset (**e_mer_a_short**) has a total of <font color = 'orange'>394 rows of patients who most probalbly attended a HSL hosptilisation service and had a covid-19 test confirmed as detected.\n",
        "\n",
        "#II) Appending HSL_Patients.csv relavant data:\n",
        "I then appended to the <font color = 'orange'>**394 rows**</font>the respective patient variables from the HSL_Patients.csv: 'IC_SEXO'(GENDER), 'AA_NASCIMENTO'(Year of Birth(YoB), 'CD_Pais' (Country), CD_UF ('Brazilian State') and 'CD_Municipio'(Brazilian County).\n",
        "\n",
        "# III) Adding a few variables\n",
        "Finally I created and appended to the above the following variables\n",
        "\n",
        "'age', 'age_percentile' and 'Age_above65'."
      ]
    },
    {
      "cell_type": "markdown",
      "metadata": {
        "id": "91NrcMrIk8S4"
      },
      "source": [
        "##**Before goint ahead an 'Author's Note' about a personal experimentation**: \n",
        "\n",
        "As an experiment to help improve readbility and follow the sequence of transformations during the coding evolutions I created a table with the objet short name used in this notebook for coding and the respective wished objet long and more descriptive name. The order they appear in this table is the same as in the code track.\n",
        "\n",
        "My objective is to facilitate traceability and make it proactively audit friendly, an strategy that I successfuly used during my 30 years clinical research carreer. \n",
        "\n",
        "The reader may use the Colab facility \"Mirror cell in tab' during the parcours of this notebook.\n",
        "\n",
        "https://www.tablesgenerator.com/text_tables\n",
        "\n",
        "| Object Short name | Object Long descriptive name                                                                 |\n",
        "|-------------------|----------------------------------------------------------------------------------------------|\n",
        "| a                 | HSL_Pacientes                                                                                |\n",
        "| a_short           | HSL_Pacientes_short                                                                          |\n",
        "| b                 | HSL_Exames                                                                                   |\n",
        "| c                 | df_HSL_Exames                                                                                |\n",
        "| c_sorted          | df_HSL_Exames_sorted                                                                         |\n",
        "| d_all             | HSL_c19_detectado_ALL                                                                        |\n",
        "| d_short           | HSL_c19_detectado_short                                                                      |\n",
        "| e                 | HSL_c19_detected_13Mar16Apr2020                                                              |\n",
        "| e_short           | HSL_c19_detected_13Mar16Apr2020_ORIGEM_short                                                 |\n",
        "| e_mer_a_short     | Merged_HSL_c19_detected_13Mar16Apr2020_ORIGEM_short_AND_HSL_Pacientes_short                  |\n",
        "| e_mer_a_b           | Merged_HSL_c19_detected_13Mar16Apr2020_ORIGEM_short_AND_HSL_Pacientes_short_AND_HSL_Exames   |\n",
        "| d                 | HSL_Desfecho                                                                                 |\n",
        "| e_mer_a_short_d   | Merged_HSL_c19_detected_13Mar16Apr2020_ORIGEM_short_AND_HSL_Pacientes_short_AND_HSL_DESFECHO |\n",
        "| j                 | UTI_Desfecho                                                                                 |"
      ]
    },
    {
      "cell_type": "markdown",
      "metadata": {
        "id": "Ntu9nU4WIDnc"
      },
      "source": [
        "#Lets starts coding!!!"
      ]
    },
    {
      "cell_type": "markdown",
      "metadata": {
        "id": "CUUl0NbAKVTT"
      },
      "source": [
        "# a - HSL_Pacientes.csv"
      ]
    },
    {
      "cell_type": "code",
      "metadata": {
        "id": "AP1qJmYfQl0n"
      },
      "source": [
        "a = pd.read_csv('/content/drive/MyDrive/Alura DS Bootcamp/Modulo 5 - Colab - ML - Modelos, Metricas e Validacao/M5 - Projeto/HSL_Pacientes.csv', sep='|')"
      ],
      "execution_count": 178,
      "outputs": []
    },
    {
      "cell_type": "code",
      "metadata": {
        "colab": {
          "base_uri": "https://localhost:8080/",
          "height": 111
        },
        "id": "Q2O1sj_ZyN7U",
        "outputId": "ec0e0e5b-c91c-46a4-9406-5ff5ea6a2a8a"
      },
      "source": [
        "a.head(2)"
      ],
      "execution_count": 179,
      "outputs": [
        {
          "output_type": "execute_result",
          "data": {
            "text/html": [
              "<div>\n",
              "<style scoped>\n",
              "    .dataframe tbody tr th:only-of-type {\n",
              "        vertical-align: middle;\n",
              "    }\n",
              "\n",
              "    .dataframe tbody tr th {\n",
              "        vertical-align: top;\n",
              "    }\n",
              "\n",
              "    .dataframe thead th {\n",
              "        text-align: right;\n",
              "    }\n",
              "</style>\n",
              "<table border=\"1\" class=\"dataframe\">\n",
              "  <thead>\n",
              "    <tr style=\"text-align: right;\">\n",
              "      <th></th>\n",
              "      <th>ID_PACIENTE</th>\n",
              "      <th>IC_SEXO</th>\n",
              "      <th>AA_NASCIMENTO</th>\n",
              "      <th>CD_PAIS</th>\n",
              "      <th>CD_UF</th>\n",
              "      <th>CD_MUNICIPIO</th>\n",
              "      <th>CD_CEPREDUZIDO</th>\n",
              "    </tr>\n",
              "  </thead>\n",
              "  <tbody>\n",
              "    <tr>\n",
              "      <th>0</th>\n",
              "      <td>CFF55DA6AFD2DBF06851795AB62AD6CD</td>\n",
              "      <td>M</td>\n",
              "      <td>1970</td>\n",
              "      <td>BR</td>\n",
              "      <td>SP</td>\n",
              "      <td>SAO PAULO</td>\n",
              "      <td>CCCC</td>\n",
              "    </tr>\n",
              "    <tr>\n",
              "      <th>1</th>\n",
              "      <td>E992F42A89FA4E7CE49E9533F14E0268</td>\n",
              "      <td>M</td>\n",
              "      <td>1939</td>\n",
              "      <td>BR</td>\n",
              "      <td>SP</td>\n",
              "      <td>SAO PAULO</td>\n",
              "      <td>CCCC</td>\n",
              "    </tr>\n",
              "  </tbody>\n",
              "</table>\n",
              "</div>"
            ],
            "text/plain": [
              "                        ID_PACIENTE IC_SEXO  ... CD_MUNICIPIO CD_CEPREDUZIDO\n",
              "0  CFF55DA6AFD2DBF06851795AB62AD6CD       M  ...    SAO PAULO           CCCC\n",
              "1  E992F42A89FA4E7CE49E9533F14E0268       M  ...    SAO PAULO           CCCC\n",
              "\n",
              "[2 rows x 7 columns]"
            ]
          },
          "metadata": {
            "tags": []
          },
          "execution_count": 179
        }
      ]
    },
    {
      "cell_type": "code",
      "metadata": {
        "colab": {
          "base_uri": "https://localhost:8080/"
        },
        "id": "9L-eXYRXTZ1G",
        "outputId": "74d5aaca-706b-4ef5-eeef-a091ee94b42b"
      },
      "source": [
        "a.shape"
      ],
      "execution_count": 180,
      "outputs": [
        {
          "output_type": "execute_result",
          "data": {
            "text/plain": [
              "(14673, 7)"
            ]
          },
          "metadata": {
            "tags": []
          },
          "execution_count": 180
        }
      ]
    },
    {
      "cell_type": "code",
      "metadata": {
        "colab": {
          "base_uri": "https://localhost:8080/"
        },
        "id": "meiT9FoSTALP",
        "outputId": "82853726-7549-4ae2-c686-3d30276c0429"
      },
      "source": [
        "a.ID_PACIENTE.duplicated().sum()"
      ],
      "execution_count": 181,
      "outputs": [
        {
          "output_type": "execute_result",
          "data": {
            "text/plain": [
              "0"
            ]
          },
          "metadata": {
            "tags": []
          },
          "execution_count": 181
        }
      ]
    },
    {
      "cell_type": "code",
      "metadata": {
        "colab": {
          "base_uri": "https://localhost:8080/",
          "height": 111
        },
        "id": "a0S4DaIAxs9q",
        "outputId": "be534748-f260-4b94-d0e3-7682b8d4927b"
      },
      "source": [
        "a_short = a.drop(['CD_PAIS','CD_CEPREDUZIDO'], axis=1)\n",
        "a.head(2)"
      ],
      "execution_count": 182,
      "outputs": [
        {
          "output_type": "execute_result",
          "data": {
            "text/html": [
              "<div>\n",
              "<style scoped>\n",
              "    .dataframe tbody tr th:only-of-type {\n",
              "        vertical-align: middle;\n",
              "    }\n",
              "\n",
              "    .dataframe tbody tr th {\n",
              "        vertical-align: top;\n",
              "    }\n",
              "\n",
              "    .dataframe thead th {\n",
              "        text-align: right;\n",
              "    }\n",
              "</style>\n",
              "<table border=\"1\" class=\"dataframe\">\n",
              "  <thead>\n",
              "    <tr style=\"text-align: right;\">\n",
              "      <th></th>\n",
              "      <th>ID_PACIENTE</th>\n",
              "      <th>IC_SEXO</th>\n",
              "      <th>AA_NASCIMENTO</th>\n",
              "      <th>CD_PAIS</th>\n",
              "      <th>CD_UF</th>\n",
              "      <th>CD_MUNICIPIO</th>\n",
              "      <th>CD_CEPREDUZIDO</th>\n",
              "    </tr>\n",
              "  </thead>\n",
              "  <tbody>\n",
              "    <tr>\n",
              "      <th>0</th>\n",
              "      <td>CFF55DA6AFD2DBF06851795AB62AD6CD</td>\n",
              "      <td>M</td>\n",
              "      <td>1970</td>\n",
              "      <td>BR</td>\n",
              "      <td>SP</td>\n",
              "      <td>SAO PAULO</td>\n",
              "      <td>CCCC</td>\n",
              "    </tr>\n",
              "    <tr>\n",
              "      <th>1</th>\n",
              "      <td>E992F42A89FA4E7CE49E9533F14E0268</td>\n",
              "      <td>M</td>\n",
              "      <td>1939</td>\n",
              "      <td>BR</td>\n",
              "      <td>SP</td>\n",
              "      <td>SAO PAULO</td>\n",
              "      <td>CCCC</td>\n",
              "    </tr>\n",
              "  </tbody>\n",
              "</table>\n",
              "</div>"
            ],
            "text/plain": [
              "                        ID_PACIENTE IC_SEXO  ... CD_MUNICIPIO CD_CEPREDUZIDO\n",
              "0  CFF55DA6AFD2DBF06851795AB62AD6CD       M  ...    SAO PAULO           CCCC\n",
              "1  E992F42A89FA4E7CE49E9533F14E0268       M  ...    SAO PAULO           CCCC\n",
              "\n",
              "[2 rows x 7 columns]"
            ]
          },
          "metadata": {
            "tags": []
          },
          "execution_count": 182
        }
      ]
    },
    {
      "cell_type": "code",
      "metadata": {
        "colab": {
          "base_uri": "https://localhost:8080/"
        },
        "id": "8qhfMznQLITF",
        "outputId": "ed877632-d363-4ad2-e6fa-923626d5f6ed"
      },
      "source": [
        "a_short['AA_NASCIMENTO'].unique()"
      ],
      "execution_count": 183,
      "outputs": [
        {
          "output_type": "execute_result",
          "data": {
            "text/plain": [
              "array(['1970', '1939', '1960', '1962', '1954', '1978', '1984', '1944',\n",
              "       '1952', 'AAAA', '1997', '1996', '1989', '1973', '1980', '1965',\n",
              "       '1975', '1940', '1946', '1995', '1943', '1974', '1949', '1945',\n",
              "       '1941', '1979', '1963', '1992', '1976', '1981', '1958', '1966',\n",
              "       '1972', '1950', '1937', '1967', '1942', '1959', '1968', '1953',\n",
              "       '1993', '1969', '1947', '1987', '1985', '1938', '1955', '1988',\n",
              "       '1971', '2004', '1964', '1986', '1961', '1983', '1951', '1956',\n",
              "       '2006', '1990', '1991', '1999', '1977', '1982', '1948', '1957',\n",
              "       '2007', '1994', '2008', '2005', '2009', '1998', '2001', '1935',\n",
              "       '1931', '1936', '1933', '2000', '2003', '2011', '2013', '1932',\n",
              "       '2012', '2010', '2014', '1934', '2016', '2017', '2002', '2015',\n",
              "       'YYYY', '2019', '2018', '2020'], dtype=object)"
            ]
          },
          "metadata": {
            "tags": []
          },
          "execution_count": 183
        }
      ]
    },
    {
      "cell_type": "code",
      "metadata": {
        "colab": {
          "base_uri": "https://localhost:8080/"
        },
        "id": "41qVxW_9LaNs",
        "outputId": "63b7768c-4cdf-4959-8007-973769c643e7"
      },
      "source": [
        "print(a_short.query('AA_NASCIMENTO == \"AAAA\"'))"
      ],
      "execution_count": 184,
      "outputs": [
        {
          "output_type": "stream",
          "text": [
            "                            ID_PACIENTE IC_SEXO  ... CD_UF CD_MUNICIPIO\n",
            "10     C38399695B7789855C11FD9499F3E038       F  ...    SP    SAO PAULO\n",
            "15     03F259886558B6E1F8B075199F25BA23       M  ...    SP    SAO PAULO\n",
            "32     14BA90E4AEAB8DC24949B03B639A15CF       F  ...    SP    SAO PAULO\n",
            "59     BBD0BFC904CFA669E74BCD6A00002A59       F  ...    SP    SAO PAULO\n",
            "136    2011A992C4697C6F788B177FE2C55A47       F  ...    SP    SAO PAULO\n",
            "...                                 ...     ...  ...   ...          ...\n",
            "14020  1F584B18616D7A2D104675C21FDEB207       F  ...    DF     BRASILIA\n",
            "14127  D4792483371FE3A25D353E8C983EA3EE       M  ...    SP    SAO PAULO\n",
            "14207  2E410F56AC6B2FC8D53AB6484D192B48       F  ...    SP         MMMM\n",
            "14553  CDC3938B9C34B8B89DE1E9AB6A3E39CF       F  ...    SP         MMMM\n",
            "14654  9C4B855675D2A511C06FC3B54ED18DD6       F  ...    SP    SAO PAULO\n",
            "\n",
            "[125 rows x 5 columns]\n"
          ],
          "name": "stdout"
        }
      ]
    },
    {
      "cell_type": "code",
      "metadata": {
        "colab": {
          "base_uri": "https://localhost:8080/"
        },
        "id": "CpMa-lIwNoXk",
        "outputId": "48b680b5-923c-432b-f003-05cc7f4b457c"
      },
      "source": [
        "print(a_short.query('AA_NASCIMENTO == \"YYYY\"'))"
      ],
      "execution_count": 185,
      "outputs": [
        {
          "output_type": "stream",
          "text": [
            "                            ID_PACIENTE IC_SEXO  ... CD_UF CD_MUNICIPIO\n",
            "1030   C1D07C5E7D00FA78F480A7F40A46786C       M  ...    UU         MMMM\n",
            "1079   5055D9196C4136B957FA248F5EF0BD99       M  ...    UU         MMMM\n",
            "1080   988A4FB7856732AD9EF4CAC05BF54A89       M  ...    UU         MMMM\n",
            "1081   87FDFF90DF3C6652260F702010235D62       M  ...    UU         MMMM\n",
            "1087   A1C48A58F6841B879D08FEC8E7359B00       F  ...    UU         MMMM\n",
            "...                                 ...     ...  ...   ...          ...\n",
            "13934  2995FDF3BEC8AD5AD478425327BEE6F9       M  ...    UU         MMMM\n",
            "13936  46FDE2F95C61D34458A53B00BB97CD64       M  ...    UU         MMMM\n",
            "14420  B36DE5B0556463E8C1F97F4A15C874E0       M  ...    UU         MMMM\n",
            "14423  FE158845A1750AED34234B65CE093FB1       M  ...    UU         MMMM\n",
            "14600  B33DF07C5EB42F0621B05EB0BFC5224D       M  ...    UU         MMMM\n",
            "\n",
            "[100 rows x 5 columns]\n"
          ],
          "name": "stdout"
        }
      ]
    },
    {
      "cell_type": "markdown",
      "metadata": {
        "id": "rL23f99eKhUz"
      },
      "source": [
        "#b - HSL_Exames.csv"
      ]
    },
    {
      "cell_type": "code",
      "metadata": {
        "id": "Fjd2rDfKQlvk"
      },
      "source": [
        "b = pd.read_csv('/content/drive/MyDrive/Alura DS Bootcamp/Modulo 5 - Colab - ML - Modelos, Metricas e Validacao/M5 - Projeto/HSL_Exames.csv', sep = '|', parse_dates=False, infer_datetime_format= True, dayfirst= True)\n",
        "b['DT_COLETA'] = pd.to_datetime(b['DT_COLETA'], format='%d/%m/%Y')"
      ],
      "execution_count": 186,
      "outputs": []
    },
    {
      "cell_type": "code",
      "metadata": {
        "colab": {
          "base_uri": "https://localhost:8080/"
        },
        "id": "XXhaeC4cT2Tf",
        "outputId": "18f18a1f-5e73-4e07-fbcf-940f8b6f8094"
      },
      "source": [
        "b.shape"
      ],
      "execution_count": 187,
      "outputs": [
        {
          "output_type": "execute_result",
          "data": {
            "text/plain": [
              "(2952999, 9)"
            ]
          },
          "metadata": {
            "tags": []
          },
          "execution_count": 187
        }
      ]
    },
    {
      "cell_type": "code",
      "metadata": {
        "colab": {
          "base_uri": "https://localhost:8080/"
        },
        "id": "MBwSxyt9T81f",
        "outputId": "6402c365-01ba-4279-d97a-33e06dffb12d"
      },
      "source": [
        "b.ID_PACIENTE.duplicated().sum()"
      ],
      "execution_count": 188,
      "outputs": [
        {
          "output_type": "execute_result",
          "data": {
            "text/plain": [
              "2938326"
            ]
          },
          "metadata": {
            "tags": []
          },
          "execution_count": 188
        }
      ]
    },
    {
      "cell_type": "code",
      "metadata": {
        "id": "ZygT1nIcVSYq"
      },
      "source": [
        "c = pd.DataFrame(b)"
      ],
      "execution_count": 189,
      "outputs": []
    },
    {
      "cell_type": "code",
      "metadata": {
        "colab": {
          "base_uri": "https://localhost:8080/"
        },
        "id": "diKmy1UwaQql",
        "outputId": "a57b4442-e4bf-41a4-e472-a25c497f3a8b"
      },
      "source": [
        "c.info()"
      ],
      "execution_count": 190,
      "outputs": [
        {
          "output_type": "stream",
          "text": [
            "<class 'pandas.core.frame.DataFrame'>\n",
            "RangeIndex: 2952999 entries, 0 to 2952998\n",
            "Data columns (total 9 columns):\n",
            " #   Column               Dtype         \n",
            "---  ------               -----         \n",
            " 0   ID_PACIENTE          object        \n",
            " 1   ID_ATENDIMENTO       object        \n",
            " 2   DT_COLETA            datetime64[ns]\n",
            " 3   DE_ORIGEM            object        \n",
            " 4   DE_EXAME             object        \n",
            " 5   DE_ANALITO           object        \n",
            " 6   DE_RESULTADO         object        \n",
            " 7   CD_UNIDADE           object        \n",
            " 8   DE_VALOR_REFERENCIA  object        \n",
            "dtypes: datetime64[ns](1), object(8)\n",
            "memory usage: 202.8+ MB\n"
          ],
          "name": "stdout"
        }
      ]
    },
    {
      "cell_type": "code",
      "metadata": {
        "id": "hthMF_OKzCJC",
        "colab": {
          "base_uri": "https://localhost:8080/"
        },
        "outputId": "63ed65f3-ef97-4ce3-9b03-302c08af150e"
      },
      "source": [
        "c['DT_COLETA'].value_counts()"
      ],
      "execution_count": 191,
      "outputs": [
        {
          "output_type": "execute_result",
          "data": {
            "text/plain": [
              "2021-03-02    11266\n",
              "2021-03-12    10899\n",
              "2021-03-04    10898\n",
              "2021-03-17    10782\n",
              "2021-03-10    10772\n",
              "              ...  \n",
              "2021-06-10     1554\n",
              "2020-03-15     1165\n",
              "2021-06-11     1083\n",
              "2020-03-01     1062\n",
              "2021-06-12      191\n",
              "Name: DT_COLETA, Length: 473, dtype: int64"
            ]
          },
          "metadata": {
            "tags": []
          },
          "execution_count": 191
        }
      ]
    },
    {
      "cell_type": "code",
      "metadata": {
        "id": "ySSGrx-C4srW",
        "colab": {
          "base_uri": "https://localhost:8080/",
          "height": 847
        },
        "outputId": "a23c0ca6-aa01-4a27-b6a1-8ecbcc744e1f"
      },
      "source": [
        "c_sorted = c.sort_values(['DT_COLETA', 'ID_PACIENTE'])\n",
        "c_sorted"
      ],
      "execution_count": 192,
      "outputs": [
        {
          "output_type": "execute_result",
          "data": {
            "text/html": [
              "<div>\n",
              "<style scoped>\n",
              "    .dataframe tbody tr th:only-of-type {\n",
              "        vertical-align: middle;\n",
              "    }\n",
              "\n",
              "    .dataframe tbody tr th {\n",
              "        vertical-align: top;\n",
              "    }\n",
              "\n",
              "    .dataframe thead th {\n",
              "        text-align: right;\n",
              "    }\n",
              "</style>\n",
              "<table border=\"1\" class=\"dataframe\">\n",
              "  <thead>\n",
              "    <tr style=\"text-align: right;\">\n",
              "      <th></th>\n",
              "      <th>ID_PACIENTE</th>\n",
              "      <th>ID_ATENDIMENTO</th>\n",
              "      <th>DT_COLETA</th>\n",
              "      <th>DE_ORIGEM</th>\n",
              "      <th>DE_EXAME</th>\n",
              "      <th>DE_ANALITO</th>\n",
              "      <th>DE_RESULTADO</th>\n",
              "      <th>CD_UNIDADE</th>\n",
              "      <th>DE_VALOR_REFERENCIA</th>\n",
              "    </tr>\n",
              "  </thead>\n",
              "  <tbody>\n",
              "    <tr>\n",
              "      <th>17743</th>\n",
              "      <td>088EA5B185B6B2F70C09FC9B95400C94</td>\n",
              "      <td>07EE36B985AFDE3FF43361B71BEF625D</td>\n",
              "      <td>2020-02-26</td>\n",
              "      <td>Pronto Socorro</td>\n",
              "      <td>Tgo</td>\n",
              "      <td>AST (TGO)</td>\n",
              "      <td>31</td>\n",
              "      <td>U/L</td>\n",
              "      <td>Até 40</td>\n",
              "    </tr>\n",
              "    <tr>\n",
              "      <th>103404</th>\n",
              "      <td>088EA5B185B6B2F70C09FC9B95400C94</td>\n",
              "      <td>07EE36B985AFDE3FF43361B71BEF625D</td>\n",
              "      <td>2020-02-26</td>\n",
              "      <td>Pronto Socorro</td>\n",
              "      <td>Cálcio Ionizável</td>\n",
              "      <td>Calcio Ionizavel</td>\n",
              "      <td>1,36</td>\n",
              "      <td>mmol/L</td>\n",
              "      <td>1,11 a 1,40</td>\n",
              "    </tr>\n",
              "    <tr>\n",
              "      <th>400916</th>\n",
              "      <td>088EA5B185B6B2F70C09FC9B95400C94</td>\n",
              "      <td>07EE36B985AFDE3FF43361B71BEF625D</td>\n",
              "      <td>2020-02-26</td>\n",
              "      <td>Pronto Socorro</td>\n",
              "      <td>Calculo da Estimativa da Taxa, de Filtracao Gl...</td>\n",
              "      <td>Cálculo p/não afrodescendente CKD-EPI</td>\n",
              "      <td>52</td>\n",
              "      <td>mL/minuto</td>\n",
              "      <td>Superior a 60</td>\n",
              "    </tr>\n",
              "    <tr>\n",
              "      <th>400917</th>\n",
              "      <td>088EA5B185B6B2F70C09FC9B95400C94</td>\n",
              "      <td>07EE36B985AFDE3FF43361B71BEF625D</td>\n",
              "      <td>2020-02-26</td>\n",
              "      <td>Pronto Socorro</td>\n",
              "      <td>Calculo da Estimativa da Taxa, de Filtracao Gl...</td>\n",
              "      <td>Cálculo p/afrodescendente MDRD</td>\n",
              "      <td>superior a 60</td>\n",
              "      <td>mL/minuto</td>\n",
              "      <td>Superior a 60</td>\n",
              "    </tr>\n",
              "    <tr>\n",
              "      <th>459104</th>\n",
              "      <td>088EA5B185B6B2F70C09FC9B95400C94</td>\n",
              "      <td>07EE36B985AFDE3FF43361B71BEF625D</td>\n",
              "      <td>2020-02-26</td>\n",
              "      <td>Pronto Socorro</td>\n",
              "      <td>Calculo da Estimativa da Taxa, de Filtracao Gl...</td>\n",
              "      <td>Cálculo p/afrodescendente CKD-EPI</td>\n",
              "      <td>60</td>\n",
              "      <td>mL/minuto</td>\n",
              "      <td>Superior a 60</td>\n",
              "    </tr>\n",
              "    <tr>\n",
              "      <th>...</th>\n",
              "      <td>...</td>\n",
              "      <td>...</td>\n",
              "      <td>...</td>\n",
              "      <td>...</td>\n",
              "      <td>...</td>\n",
              "      <td>...</td>\n",
              "      <td>...</td>\n",
              "      <td>...</td>\n",
              "      <td>...</td>\n",
              "    </tr>\n",
              "    <tr>\n",
              "      <th>1238663</th>\n",
              "      <td>A40511CAD8383E5AE8DDD8B855D135DA</td>\n",
              "      <td>7630A7A2223F8065333F7EEFC0A39E76</td>\n",
              "      <td>2021-06-12</td>\n",
              "      <td>UTI</td>\n",
              "      <td>Urina Tipo I - Jato Medio</td>\n",
              "      <td>Leucócitos, urina</td>\n",
              "      <td>8000</td>\n",
              "      <td>-</td>\n",
              "      <td>inferior a 30000</td>\n",
              "    </tr>\n",
              "    <tr>\n",
              "      <th>2155148</th>\n",
              "      <td>A40511CAD8383E5AE8DDD8B855D135DA</td>\n",
              "      <td>7630A7A2223F8065333F7EEFC0A39E76</td>\n",
              "      <td>2021-06-12</td>\n",
              "      <td>UTI</td>\n",
              "      <td>Interleucina 6, soro</td>\n",
              "      <td>Interleucina 6</td>\n",
              "      <td>204</td>\n",
              "      <td>pg/mL</td>\n",
              "      <td>1,5 a 7,0</td>\n",
              "    </tr>\n",
              "    <tr>\n",
              "      <th>2945751</th>\n",
              "      <td>A75FCE79E749966DD2CE2E6A346AA99C</td>\n",
              "      <td>63111E053081EE27910EBDD492AE8A09</td>\n",
              "      <td>2021-06-12</td>\n",
              "      <td>Pronto Socorro</td>\n",
              "      <td>Detecção de Coronavírus (NCoV-2019) POR PCR (A...</td>\n",
              "      <td>Detecção de Coronavírus (NCoV-2019) POR PCR (A...</td>\n",
              "      <td>DETECTADO</td>\n",
              "      <td>-</td>\n",
              "      <td>Não detectado</td>\n",
              "    </tr>\n",
              "    <tr>\n",
              "      <th>1288323</th>\n",
              "      <td>CAB1E16AB63809C50057AF398FC2A301</td>\n",
              "      <td>C4F5C5460731D86A82667D4AD2AB56F3</td>\n",
              "      <td>2021-06-12</td>\n",
              "      <td>UTI</td>\n",
              "      <td>Ácido Úrico</td>\n",
              "      <td>Ácido Úrico</td>\n",
              "      <td>1,7</td>\n",
              "      <td>mg/dL</td>\n",
              "      <td>3,4 a 7,0</td>\n",
              "    </tr>\n",
              "    <tr>\n",
              "      <th>663981</th>\n",
              "      <td>E67B471BC60B62020EFC97E37B730450</td>\n",
              "      <td>3C5FC4DF70A9C43DC2E9028EE3337A4B</td>\n",
              "      <td>2021-06-12</td>\n",
              "      <td>Unidades de Internação</td>\n",
              "      <td>Hemocultura para anaeróbios, por maldi-tof, vá...</td>\n",
              "      <td>Hemocultura para anaeróbios, por maldi-tof, vá...</td>\n",
              "      <td>Parcial Negativo</td>\n",
              "      <td>-</td>\n",
              "      <td>-</td>\n",
              "    </tr>\n",
              "  </tbody>\n",
              "</table>\n",
              "<p>2952999 rows × 9 columns</p>\n",
              "</div>"
            ],
            "text/plain": [
              "                              ID_PACIENTE  ... DE_VALOR_REFERENCIA\n",
              "17743    088EA5B185B6B2F70C09FC9B95400C94  ...              Até 40\n",
              "103404   088EA5B185B6B2F70C09FC9B95400C94  ...         1,11 a 1,40\n",
              "400916   088EA5B185B6B2F70C09FC9B95400C94  ...       Superior a 60\n",
              "400917   088EA5B185B6B2F70C09FC9B95400C94  ...       Superior a 60\n",
              "459104   088EA5B185B6B2F70C09FC9B95400C94  ...       Superior a 60\n",
              "...                                   ...  ...                 ...\n",
              "1238663  A40511CAD8383E5AE8DDD8B855D135DA  ...    inferior a 30000\n",
              "2155148  A40511CAD8383E5AE8DDD8B855D135DA  ...           1,5 a 7,0\n",
              "2945751  A75FCE79E749966DD2CE2E6A346AA99C  ...       Não detectado\n",
              "1288323  CAB1E16AB63809C50057AF398FC2A301  ...           3,4 a 7,0\n",
              "663981   E67B471BC60B62020EFC97E37B730450  ...                   -\n",
              "\n",
              "[2952999 rows x 9 columns]"
            ]
          },
          "metadata": {
            "tags": []
          },
          "execution_count": 192
        }
      ]
    },
    {
      "cell_type": "code",
      "metadata": {
        "id": "adO6aP166dcH",
        "colab": {
          "base_uri": "https://localhost:8080/"
        },
        "outputId": "d72826eb-719e-4ae2-83eb-6fb852b53e5f"
      },
      "source": [
        "d_ALL = c_sorted[c_sorted['DE_RESULTADO'] == 'DETECTADO']\n",
        "d_ALL.shape"
      ],
      "execution_count": 193,
      "outputs": [
        {
          "output_type": "execute_result",
          "data": {
            "text/plain": [
              "(12145, 9)"
            ]
          },
          "metadata": {
            "tags": []
          },
          "execution_count": 193
        }
      ]
    },
    {
      "cell_type": "code",
      "metadata": {
        "id": "fBtCOC9_pZMq",
        "colab": {
          "base_uri": "https://localhost:8080/"
        },
        "outputId": "b3d028c3-8081-4dc9-986d-0f615fc83973"
      },
      "source": [
        "d_short = d_ALL.drop(['ID_ATENDIMENTO', 'DE_ANALITO', 'CD_UNIDADE', 'DE_VALOR_REFERENCIA'], axis=1)\n",
        "d_short.shape"
      ],
      "execution_count": 194,
      "outputs": [
        {
          "output_type": "execute_result",
          "data": {
            "text/plain": [
              "(12145, 5)"
            ]
          },
          "metadata": {
            "tags": []
          },
          "execution_count": 194
        }
      ]
    },
    {
      "cell_type": "code",
      "metadata": {
        "id": "uc8zHeC5tDhc",
        "colab": {
          "base_uri": "https://localhost:8080/"
        },
        "outputId": "51dd9096-f744-4414-9ab1-eafd3c82005f"
      },
      "source": [
        "print(d_short.dtypes)"
      ],
      "execution_count": 195,
      "outputs": [
        {
          "output_type": "stream",
          "text": [
            "ID_PACIENTE             object\n",
            "DT_COLETA       datetime64[ns]\n",
            "DE_ORIGEM               object\n",
            "DE_EXAME                object\n",
            "DE_RESULTADO            object\n",
            "dtype: object\n"
          ],
          "name": "stdout"
        }
      ]
    },
    {
      "cell_type": "code",
      "metadata": {
        "id": "zmRYtEmDq2IC",
        "colab": {
          "base_uri": "https://localhost:8080/"
        },
        "outputId": "7ded3d7c-f3de-4999-9ac5-13d178f93aed"
      },
      "source": [
        "e = d_short[(d_short['DT_COLETA'] > '2020-03-01') & (d_short['DT_COLETA'] < '2020-04-17')]\n",
        "e.shape"
      ],
      "execution_count": 196,
      "outputs": [
        {
          "output_type": "execute_result",
          "data": {
            "text/plain": [
              "(984, 5)"
            ]
          },
          "metadata": {
            "tags": []
          },
          "execution_count": 196
        }
      ]
    },
    {
      "cell_type": "markdown",
      "metadata": {
        "id": "azkz0ewPtSX6"
      },
      "source": [
        "<font color = 'brow'>**'DE_ORIGEM' REDUCTION** - out of the initial 13 'DE_ORIGEM's diferent categories in 'HSL_Exames.csv', I only selected the covid-19 detected results from 4 categories that suggests an 'hospitalisation' ('Pronto Socorro', 'Recepcao do Centro de Diagnositico', 'Unidades de Internacao' and 'UTI')."
      ]
    },
    {
      "cell_type": "code",
      "metadata": {
        "id": "B8y3f1U3S9rF"
      },
      "source": [
        "e_short = e[e['DE_ORIGEM'].isin(['Pronto Socorro', 'Unidades de Internação', 'Recepção do Centro Diagnóstico', 'UTI'])]"
      ],
      "execution_count": 197,
      "outputs": []
    },
    {
      "cell_type": "code",
      "metadata": {
        "colab": {
          "base_uri": "https://localhost:8080/"
        },
        "id": "jqX8wHdrTSBw",
        "outputId": "9d8506b5-5f46-4ba6-c54d-87e981ea4df3"
      },
      "source": [
        "e_short.shape"
      ],
      "execution_count": 198,
      "outputs": [
        {
          "output_type": "execute_result",
          "data": {
            "text/plain": [
              "(403, 5)"
            ]
          },
          "metadata": {
            "tags": []
          },
          "execution_count": 198
        }
      ]
    },
    {
      "cell_type": "markdown",
      "metadata": {
        "id": "xL6SSB0q2hnX"
      },
      "source": [
        "#Appending HSL_Patients.csv relavant data"
      ]
    },
    {
      "cell_type": "code",
      "metadata": {
        "id": "E4wm-O27UnbZ"
      },
      "source": [
        "e_mer_a_short = pd.merge(left=e_short, right=a_short, left_on='ID_PACIENTE', right_on='ID_PACIENTE')\n",
        "e_mer_a_short = pd.DataFrame(e_mer_a_short)\n"
      ],
      "execution_count": 199,
      "outputs": []
    },
    {
      "cell_type": "code",
      "metadata": {
        "colab": {
          "base_uri": "https://localhost:8080/"
        },
        "id": "sIdxp8YrccCa",
        "outputId": "626f97a5-07ee-46e4-c02d-d31236c76e81"
      },
      "source": [
        "print(e_mer_a_short.dtypes)"
      ],
      "execution_count": 200,
      "outputs": [
        {
          "output_type": "stream",
          "text": [
            "ID_PACIENTE              object\n",
            "DT_COLETA        datetime64[ns]\n",
            "DE_ORIGEM                object\n",
            "DE_EXAME                 object\n",
            "DE_RESULTADO             object\n",
            "IC_SEXO                  object\n",
            "AA_NASCIMENTO            object\n",
            "CD_UF                    object\n",
            "CD_MUNICIPIO             object\n",
            "dtype: object\n"
          ],
          "name": "stdout"
        }
      ]
    },
    {
      "cell_type": "code",
      "metadata": {
        "colab": {
          "base_uri": "https://localhost:8080/"
        },
        "id": "p9DIw6OMKWTQ",
        "outputId": "d3c360cb-7d6e-4d70-aeac-b3e41c31186b"
      },
      "source": [
        "e_mer_a_short['AA_NASCIMENTO'].unique()"
      ],
      "execution_count": 201,
      "outputs": [
        {
          "output_type": "execute_result",
          "data": {
            "text/plain": [
              "array(['1987', '1992', '1951', '1972', '1968', '1982', '1976', '1942',\n",
              "       '1983', '1999', '1971', '1967', '1966', '1964', '1969', '1977',\n",
              "       '1978', '1980', '1990', '1957', '1956', '1953', '1996', '1984',\n",
              "       '1949', '1986', '1997', '1963', '1979', '1961', '1995', '1988',\n",
              "       '1991', '1962', '1970', '1974', '1973', '1985', '1955', '1947',\n",
              "       '1960', '1989', '1944', '1975', '1981', '1937', '1965', 'YYYY',\n",
              "       '1950', '2015', 'AAAA', '1958', '1954', '1943', '1934', '1952',\n",
              "       '1940', '1959', '1946', '1945', '1941', '1938', '1935', '1948',\n",
              "       '1936', '1933', '1994', '1993'], dtype=object)"
            ]
          },
          "metadata": {
            "tags": []
          },
          "execution_count": 201
        }
      ]
    },
    {
      "cell_type": "markdown",
      "metadata": {
        "id": "C9LZUM4uOx-R"
      },
      "source": [
        "**AA_Nascimento**: Interesting to notice that from our selection of 403 patients who had a covid-19 'Detected\" result in the specified window (13 Mar to 16 April 2020), \n",
        "\n",
        "* no Year of Birth(YoB) was missing\n",
        "* 10 (ten) were older than 90 years old(yo) and for\n",
        "*  9 of them an anonymisation was requested."
      ]
    },
    {
      "cell_type": "code",
      "metadata": {
        "colab": {
          "base_uri": "https://localhost:8080/"
        },
        "id": "FYbz5x-MOVRT",
        "outputId": "761d89fb-eb2e-4c2c-9e84-85b040c10b57"
      },
      "source": [
        "print(e_mer_a_short.query('AA_NASCIMENTO == \"nan\"'))"
      ],
      "execution_count": 202,
      "outputs": [
        {
          "output_type": "stream",
          "text": [
            "Empty DataFrame\n",
            "Columns: [ID_PACIENTE, DT_COLETA, DE_ORIGEM, DE_EXAME, DE_RESULTADO, IC_SEXO, AA_NASCIMENTO, CD_UF, CD_MUNICIPIO]\n",
            "Index: []\n"
          ],
          "name": "stdout"
        }
      ]
    },
    {
      "cell_type": "code",
      "metadata": {
        "colab": {
          "base_uri": "https://localhost:8080/"
        },
        "id": "g6ymhoiSN3vQ",
        "outputId": "a1dd23c1-a741-4733-fb46-2065421bd5d5"
      },
      "source": [
        "print(e_mer_a_short.query('AA_NASCIMENTO == \"AAAA\"'))"
      ],
      "execution_count": 203,
      "outputs": [
        {
          "output_type": "stream",
          "text": [
            "                          ID_PACIENTE  DT_COLETA  ... CD_UF CD_MUNICIPIO\n",
            "105  6C09DBC870CDE32E18D5001D2DBB8F01 2020-03-19  ...    SP    SAO PAULO\n",
            "120  44DA670729D76F0264E6066E2E42CF45 2020-03-21  ...    SP    SAO PAULO\n",
            "121  44DA670729D76F0264E6066E2E42CF45 2020-04-02  ...    SP    SAO PAULO\n",
            "175  099D97BA9789403C450C11E9BCA913D6 2020-03-25  ...    SP    SAO PAULO\n",
            "190  B9234437908E839737E5633543F7EF7B 2020-03-25  ...    SP    SAO PAULO\n",
            "226  87D0DF35EA2D504FA30F81E84ACB8EF4 2020-03-27  ...    SP    SAO PAULO\n",
            "263  B5B03B0B1F713CD2FFFDB28D09ADFF6E 2020-03-30  ...    SP    SAO PAULO\n",
            "272  8D265EED52D2877EC2F75B60FEEC4065 2020-03-31  ...    SP         MMMM\n",
            "278  21B87DA0B5E900224D034469833D5FE5 2020-04-01  ...    SP    SAO PAULO\n",
            "303  17F5C772CCF2A2EA598BFDFEEF586B93 2020-04-04  ...    SP    SAO PAULO\n",
            "\n",
            "[10 rows x 9 columns]\n"
          ],
          "name": "stdout"
        }
      ]
    },
    {
      "cell_type": "code",
      "metadata": {
        "colab": {
          "base_uri": "https://localhost:8080/"
        },
        "id": "9f3jP3MMOOiG",
        "outputId": "20db480d-a699-497d-e0a1-0962b2ce301a"
      },
      "source": [
        "print(e_mer_a_short.query('AA_NASCIMENTO == \"YYYY\"'))"
      ],
      "execution_count": 204,
      "outputs": [
        {
          "output_type": "stream",
          "text": [
            "                          ID_PACIENTE  DT_COLETA  ... CD_UF CD_MUNICIPIO\n",
            "93   A5D8D706FE441C2060E2D180EC8709F0 2020-03-18  ...    UU         MMMM\n",
            "94   A5D8D706FE441C2060E2D180EC8709F0 2020-03-27  ...    UU         MMMM\n",
            "95   A5D8D706FE441C2060E2D180EC8709F0 2020-03-31  ...    UU         MMMM\n",
            "220  5F5AC03DB40564B6907DFADE9FE2AC10 2020-03-27  ...    UU         MMMM\n",
            "221  5F5AC03DB40564B6907DFADE9FE2AC10 2020-03-31  ...    UU         MMMM\n",
            "222  5F5AC03DB40564B6907DFADE9FE2AC10 2020-04-09  ...    UU         MMMM\n",
            "223  5F5AC03DB40564B6907DFADE9FE2AC10 2020-04-14  ...    UU         MMMM\n",
            "282  EAADD95C88D58DDAAA38953C8E49DD6C 2020-04-01  ...    UU         MMMM\n",
            "364  C1D07C5E7D00FA78F480A7F40A46786C 2020-04-13  ...    UU         MMMM\n",
            "\n",
            "[9 rows x 9 columns]\n"
          ],
          "name": "stdout"
        }
      ]
    },
    {
      "cell_type": "code",
      "metadata": {
        "id": "kSxY8tt_UVi3"
      },
      "source": [
        "#converting 'AAAA' to '1930'\n",
        "e_mer_a_short['AA_NASCIMENTO'] = np.where((e_mer_a_short.AA_NASCIMENTO == 'AAAA'),'1930', e_mer_a_short.AA_NASCIMENTO)"
      ],
      "execution_count": 205,
      "outputs": []
    },
    {
      "cell_type": "code",
      "metadata": {
        "colab": {
          "base_uri": "https://localhost:8080/"
        },
        "id": "BFilL7sEWFqV",
        "outputId": "0e3eba87-ada4-4383-8f1f-17cbb7afd654"
      },
      "source": [
        "print(e_mer_a_short.query('AA_NASCIMENTO == \"AAAA\"'))"
      ],
      "execution_count": 206,
      "outputs": [
        {
          "output_type": "stream",
          "text": [
            "Empty DataFrame\n",
            "Columns: [ID_PACIENTE, DT_COLETA, DE_ORIGEM, DE_EXAME, DE_RESULTADO, IC_SEXO, AA_NASCIMENTO, CD_UF, CD_MUNICIPIO]\n",
            "Index: []\n"
          ],
          "name": "stdout"
        }
      ]
    },
    {
      "cell_type": "code",
      "metadata": {
        "id": "H628clbRWP7_"
      },
      "source": [
        "#deleting anonymised YoB\n",
        "e_mer_a_short = e_mer_a_short[e_mer_a_short.AA_NASCIMENTO != 'YYYY']"
      ],
      "execution_count": 207,
      "outputs": []
    },
    {
      "cell_type": "code",
      "metadata": {
        "colab": {
          "base_uri": "https://localhost:8080/"
        },
        "id": "C34S0AZCXspQ",
        "outputId": "ad3d3c70-368c-4303-e6bd-f3d36ee88a4b"
      },
      "source": [
        "print(e_mer_a_short.query('AA_NASCIMENTO == \"YYYY\"'))"
      ],
      "execution_count": 208,
      "outputs": [
        {
          "output_type": "stream",
          "text": [
            "Empty DataFrame\n",
            "Columns: [ID_PACIENTE, DT_COLETA, DE_ORIGEM, DE_EXAME, DE_RESULTADO, IC_SEXO, AA_NASCIMENTO, CD_UF, CD_MUNICIPIO]\n",
            "Index: []\n"
          ],
          "name": "stdout"
        }
      ]
    },
    {
      "cell_type": "markdown",
      "metadata": {
        "id": "aJ0LzMmF20RF"
      },
      "source": [
        "##Converting 'AA_NASCIMENTO' variable from string to numeric"
      ]
    },
    {
      "cell_type": "code",
      "metadata": {
        "id": "vcvTKtJMoSZB"
      },
      "source": [
        "e_mer_a_short['AA_NASCIMENTO'] = pd.to_numeric(e_mer_a_short['AA_NASCIMENTO'])"
      ],
      "execution_count": 209,
      "outputs": []
    },
    {
      "cell_type": "code",
      "metadata": {
        "colab": {
          "base_uri": "https://localhost:8080/"
        },
        "id": "GJ_BqCdp0KP0",
        "outputId": "4386a4d7-f760-4ca2-da4f-dbec9fbae2c5"
      },
      "source": [
        "print(e_mer_a_short.dtypes)"
      ],
      "execution_count": 210,
      "outputs": [
        {
          "output_type": "stream",
          "text": [
            "ID_PACIENTE              object\n",
            "DT_COLETA        datetime64[ns]\n",
            "DE_ORIGEM                object\n",
            "DE_EXAME                 object\n",
            "DE_RESULTADO             object\n",
            "IC_SEXO                  object\n",
            "AA_NASCIMENTO             int64\n",
            "CD_UF                    object\n",
            "CD_MUNICIPIO             object\n",
            "dtype: object\n"
          ],
          "name": "stdout"
        }
      ]
    },
    {
      "cell_type": "code",
      "metadata": {
        "id": "xGQcgqKBcfJ7"
      },
      "source": [
        "e_mer_a_short.to_excel('e_mer_a_short.xlsx')"
      ],
      "execution_count": 211,
      "outputs": []
    },
    {
      "cell_type": "markdown",
      "metadata": {
        "id": "II501qtk3CY9"
      },
      "source": [
        "#Deriving and adding variables ('AGE_PERCENTIL' and 'AGE_ABOVE65' to compare with same General Features from sl_k_original dataset."
      ]
    },
    {
      "cell_type": "code",
      "metadata": {
        "id": "BF_cErD-Ywo0"
      },
      "source": [
        "ano = 2020\n",
        "e_mer_a_short['Age'] = ano - e_mer_a_short['AA_NASCIMENTO']\n",
        "e_mer_a_short['AGE_PERCENTIL']= pd.qcut(e_mer_a_short['Age'], 10, labels= False)\n",
        "e_mer_a_short['AGE_PERCENTIL'] = e_mer_a_short['AGE_PERCENTIL'] + 1\n",
        "e_mer_a_short.loc[e_mer_a_short['Age'] >= 65, 'AGE_ABOVE65'] = 1\n",
        "e_mer_a_short.loc[e_mer_a_short['Age'] < 65, 'AGE_ABOVE65'] = 0"
      ],
      "execution_count": 212,
      "outputs": []
    },
    {
      "cell_type": "code",
      "metadata": {
        "colab": {
          "base_uri": "https://localhost:8080/",
          "height": 517
        },
        "id": "d7BHOHa2p6sx",
        "outputId": "3d731d29-1e12-4832-8872-fe6265bfd2c1"
      },
      "source": [
        "from plotly.subplots import make_subplots\n",
        "import plotly.graph_objects as go\n",
        "data1 = e_mer_a_short['IC_SEXO'].value_counts()\n",
        "data2 = e_mer_a_short['AGE_ABOVE65'].value_counts()\n",
        "data3 = e_mer_a_short['AGE_PERCENTIL'].value_counts()\n",
        "data4 = e_mer_a_short['DE_ORIGEM'].value_counts()\n",
        "fig = make_subplots(rows=1, cols=5, subplot_titles=('IC_SEXO', 'Age Above65','AGE_PERCENTIL', 'DE_ORIGEM'))\n",
        "\n",
        "fig.add_trace(\n",
        "    go.Bar(name = 'IC_SEXO', x=data1.index, y = data1), row=1, col=1)\n",
        "\n",
        "fig.add_trace(\n",
        "    go.Bar(name = 'AGE_ABOVE65', x=data2.index, y=data2),row=1, col=2)\n",
        "\n",
        "fig.add_trace(\n",
        "    go.Bar(name = 'AGE_PERCENTIL', x=data3.index, y=data3),row=1, col=3)\n",
        "\n",
        "fig.add_trace(\n",
        "    go.Bar(name = 'DE_ORIGEM', x=data4.index, y=data4),row=1, col=4)\n",
        "\n",
        "fig.update_xaxes(title_text='IC_SEXO', row=1, col=1)\n",
        "fig.update_xaxes(title_text='Age Above 65', row=1, col=2)\n",
        "fig.update_xaxes(title_text='AGE_PERCENTIL', row=1, col=3)\n",
        "fig.update_xaxes(title_text='DE_ORIGEM', row=1, col=4)\n",
        "\n",
        "\n",
        "fig.update_layout(height=500, width=1200,title_text='General Features - COVID-19 Data Sharing/BR - HSL dataset - 394 Covid-19 detected patients between 13 March and 16 April 2020')\n",
        "fig.show()"
      ],
      "execution_count": 213,
      "outputs": [
        {
          "output_type": "display_data",
          "data": {
            "text/html": [
              "<html>\n",
              "<head><meta charset=\"utf-8\" /></head>\n",
              "<body>\n",
              "    <div>\n",
              "            <script src=\"https://cdnjs.cloudflare.com/ajax/libs/mathjax/2.7.5/MathJax.js?config=TeX-AMS-MML_SVG\"></script><script type=\"text/javascript\">if (window.MathJax) {MathJax.Hub.Config({SVG: {font: \"STIX-Web\"}});}</script>\n",
              "                <script type=\"text/javascript\">window.PlotlyConfig = {MathJaxConfig: 'local'};</script>\n",
              "        <script src=\"https://cdn.plot.ly/plotly-latest.min.js\"></script>    \n",
              "            <div id=\"83ca45e2-47e0-4dba-b501-8b471aa796fd\" class=\"plotly-graph-div\" style=\"height:500px; width:1200px;\"></div>\n",
              "            <script type=\"text/javascript\">\n",
              "                \n",
              "                    window.PLOTLYENV=window.PLOTLYENV || {};\n",
              "                    \n",
              "                if (document.getElementById(\"83ca45e2-47e0-4dba-b501-8b471aa796fd\")) {\n",
              "                    Plotly.newPlot(\n",
              "                        '83ca45e2-47e0-4dba-b501-8b471aa796fd',\n",
              "                        [{\"name\": \"IC_SEXO\", \"type\": \"bar\", \"x\": [\"M\", \"F\"], \"xaxis\": \"x\", \"y\": [264, 130], \"yaxis\": \"y\"}, {\"name\": \"AGE_ABOVE65\", \"type\": \"bar\", \"x\": [0.0, 1.0], \"xaxis\": \"x2\", \"y\": [291, 103], \"yaxis\": \"y2\"}, {\"name\": \"AGE_PERCENTIL\", \"type\": \"bar\", \"x\": [1, 5, 3, 7, 6, 9, 10, 2, 8, 4], \"xaxis\": \"x3\", \"y\": [47, 42, 42, 41, 41, 40, 39, 36, 33, 33], \"yaxis\": \"y3\"}, {\"name\": \"DE_ORIGEM\", \"type\": \"bar\", \"x\": [\"Pronto Socorro\", \"Unidades de Interna\\u00e7\\u00e3o\", \"Recep\\u00e7\\u00e3o do Centro Diagn\\u00f3stico\", \"UTI\"], \"xaxis\": \"x4\", \"y\": [157, 102, 84, 51], \"yaxis\": \"y4\"}],\n",
              "                        {\"annotations\": [{\"font\": {\"size\": 16}, \"showarrow\": false, \"text\": \"IC_SEXO\", \"x\": 0.08399999999999999, \"xanchor\": \"center\", \"xref\": \"paper\", \"y\": 1.0, \"yanchor\": \"bottom\", \"yref\": \"paper\"}, {\"font\": {\"size\": 16}, \"showarrow\": false, \"text\": \"Age Above65\", \"x\": 0.292, \"xanchor\": \"center\", \"xref\": \"paper\", \"y\": 1.0, \"yanchor\": \"bottom\", \"yref\": \"paper\"}, {\"font\": {\"size\": 16}, \"showarrow\": false, \"text\": \"AGE_PERCENTIL\", \"x\": 0.5, \"xanchor\": \"center\", \"xref\": \"paper\", \"y\": 1.0, \"yanchor\": \"bottom\", \"yref\": \"paper\"}, {\"font\": {\"size\": 16}, \"showarrow\": false, \"text\": \"DE_ORIGEM\", \"x\": 0.708, \"xanchor\": \"center\", \"xref\": \"paper\", \"y\": 1.0, \"yanchor\": \"bottom\", \"yref\": \"paper\"}], \"height\": 500, \"template\": {\"data\": {\"bar\": [{\"error_x\": {\"color\": \"#2a3f5f\"}, \"error_y\": {\"color\": \"#2a3f5f\"}, \"marker\": {\"line\": {\"color\": \"#E5ECF6\", \"width\": 0.5}}, \"type\": \"bar\"}], \"barpolar\": [{\"marker\": {\"line\": {\"color\": \"#E5ECF6\", \"width\": 0.5}}, \"type\": \"barpolar\"}], \"carpet\": [{\"aaxis\": {\"endlinecolor\": \"#2a3f5f\", \"gridcolor\": \"white\", \"linecolor\": \"white\", \"minorgridcolor\": \"white\", \"startlinecolor\": \"#2a3f5f\"}, \"baxis\": {\"endlinecolor\": \"#2a3f5f\", \"gridcolor\": \"white\", \"linecolor\": \"white\", \"minorgridcolor\": \"white\", \"startlinecolor\": \"#2a3f5f\"}, \"type\": \"carpet\"}], \"choropleth\": [{\"colorbar\": {\"outlinewidth\": 0, \"ticks\": \"\"}, \"type\": \"choropleth\"}], \"contour\": [{\"colorbar\": {\"outlinewidth\": 0, \"ticks\": \"\"}, \"colorscale\": [[0.0, \"#0d0887\"], [0.1111111111111111, \"#46039f\"], [0.2222222222222222, \"#7201a8\"], [0.3333333333333333, \"#9c179e\"], [0.4444444444444444, \"#bd3786\"], [0.5555555555555556, \"#d8576b\"], [0.6666666666666666, \"#ed7953\"], [0.7777777777777778, \"#fb9f3a\"], [0.8888888888888888, \"#fdca26\"], [1.0, \"#f0f921\"]], \"type\": \"contour\"}], \"contourcarpet\": [{\"colorbar\": {\"outlinewidth\": 0, \"ticks\": \"\"}, \"type\": \"contourcarpet\"}], \"heatmap\": [{\"colorbar\": {\"outlinewidth\": 0, \"ticks\": \"\"}, \"colorscale\": [[0.0, \"#0d0887\"], [0.1111111111111111, \"#46039f\"], [0.2222222222222222, \"#7201a8\"], [0.3333333333333333, \"#9c179e\"], [0.4444444444444444, \"#bd3786\"], [0.5555555555555556, \"#d8576b\"], [0.6666666666666666, \"#ed7953\"], [0.7777777777777778, \"#fb9f3a\"], [0.8888888888888888, \"#fdca26\"], [1.0, \"#f0f921\"]], \"type\": \"heatmap\"}], \"heatmapgl\": [{\"colorbar\": {\"outlinewidth\": 0, \"ticks\": \"\"}, \"colorscale\": [[0.0, \"#0d0887\"], [0.1111111111111111, \"#46039f\"], [0.2222222222222222, \"#7201a8\"], [0.3333333333333333, \"#9c179e\"], [0.4444444444444444, \"#bd3786\"], [0.5555555555555556, \"#d8576b\"], [0.6666666666666666, \"#ed7953\"], [0.7777777777777778, \"#fb9f3a\"], [0.8888888888888888, \"#fdca26\"], [1.0, \"#f0f921\"]], \"type\": \"heatmapgl\"}], \"histogram\": [{\"marker\": {\"colorbar\": {\"outlinewidth\": 0, \"ticks\": \"\"}}, \"type\": \"histogram\"}], \"histogram2d\": [{\"colorbar\": {\"outlinewidth\": 0, \"ticks\": \"\"}, \"colorscale\": [[0.0, \"#0d0887\"], [0.1111111111111111, \"#46039f\"], [0.2222222222222222, \"#7201a8\"], [0.3333333333333333, \"#9c179e\"], [0.4444444444444444, \"#bd3786\"], [0.5555555555555556, \"#d8576b\"], [0.6666666666666666, \"#ed7953\"], [0.7777777777777778, \"#fb9f3a\"], [0.8888888888888888, \"#fdca26\"], [1.0, \"#f0f921\"]], \"type\": \"histogram2d\"}], \"histogram2dcontour\": [{\"colorbar\": {\"outlinewidth\": 0, \"ticks\": \"\"}, \"colorscale\": [[0.0, \"#0d0887\"], [0.1111111111111111, \"#46039f\"], [0.2222222222222222, \"#7201a8\"], [0.3333333333333333, \"#9c179e\"], [0.4444444444444444, \"#bd3786\"], [0.5555555555555556, \"#d8576b\"], [0.6666666666666666, \"#ed7953\"], [0.7777777777777778, \"#fb9f3a\"], [0.8888888888888888, \"#fdca26\"], [1.0, \"#f0f921\"]], \"type\": \"histogram2dcontour\"}], \"mesh3d\": [{\"colorbar\": {\"outlinewidth\": 0, \"ticks\": \"\"}, \"type\": \"mesh3d\"}], \"parcoords\": [{\"line\": {\"colorbar\": {\"outlinewidth\": 0, \"ticks\": \"\"}}, \"type\": \"parcoords\"}], \"pie\": [{\"automargin\": true, \"type\": \"pie\"}], \"scatter\": [{\"marker\": {\"colorbar\": {\"outlinewidth\": 0, \"ticks\": \"\"}}, \"type\": \"scatter\"}], \"scatter3d\": [{\"line\": {\"colorbar\": {\"outlinewidth\": 0, \"ticks\": \"\"}}, \"marker\": {\"colorbar\": {\"outlinewidth\": 0, \"ticks\": \"\"}}, \"type\": \"scatter3d\"}], \"scattercarpet\": [{\"marker\": {\"colorbar\": {\"outlinewidth\": 0, \"ticks\": \"\"}}, \"type\": \"scattercarpet\"}], \"scattergeo\": [{\"marker\": {\"colorbar\": {\"outlinewidth\": 0, \"ticks\": \"\"}}, \"type\": \"scattergeo\"}], \"scattergl\": [{\"marker\": {\"colorbar\": {\"outlinewidth\": 0, \"ticks\": \"\"}}, \"type\": \"scattergl\"}], \"scattermapbox\": [{\"marker\": {\"colorbar\": {\"outlinewidth\": 0, \"ticks\": \"\"}}, \"type\": \"scattermapbox\"}], \"scatterpolar\": [{\"marker\": {\"colorbar\": {\"outlinewidth\": 0, \"ticks\": \"\"}}, \"type\": \"scatterpolar\"}], \"scatterpolargl\": [{\"marker\": {\"colorbar\": {\"outlinewidth\": 0, \"ticks\": \"\"}}, \"type\": \"scatterpolargl\"}], \"scatterternary\": [{\"marker\": {\"colorbar\": {\"outlinewidth\": 0, \"ticks\": \"\"}}, \"type\": \"scatterternary\"}], \"surface\": [{\"colorbar\": {\"outlinewidth\": 0, \"ticks\": \"\"}, \"colorscale\": [[0.0, \"#0d0887\"], [0.1111111111111111, \"#46039f\"], [0.2222222222222222, \"#7201a8\"], [0.3333333333333333, \"#9c179e\"], [0.4444444444444444, \"#bd3786\"], [0.5555555555555556, \"#d8576b\"], [0.6666666666666666, \"#ed7953\"], [0.7777777777777778, \"#fb9f3a\"], [0.8888888888888888, \"#fdca26\"], [1.0, \"#f0f921\"]], \"type\": \"surface\"}], \"table\": [{\"cells\": {\"fill\": {\"color\": \"#EBF0F8\"}, \"line\": {\"color\": \"white\"}}, \"header\": {\"fill\": {\"color\": \"#C8D4E3\"}, \"line\": {\"color\": \"white\"}}, \"type\": \"table\"}]}, \"layout\": {\"annotationdefaults\": {\"arrowcolor\": \"#2a3f5f\", \"arrowhead\": 0, \"arrowwidth\": 1}, \"coloraxis\": {\"colorbar\": {\"outlinewidth\": 0, \"ticks\": \"\"}}, \"colorscale\": {\"diverging\": [[0, \"#8e0152\"], [0.1, \"#c51b7d\"], [0.2, \"#de77ae\"], [0.3, \"#f1b6da\"], [0.4, \"#fde0ef\"], [0.5, \"#f7f7f7\"], [0.6, \"#e6f5d0\"], [0.7, \"#b8e186\"], [0.8, \"#7fbc41\"], [0.9, \"#4d9221\"], [1, \"#276419\"]], \"sequential\": [[0.0, \"#0d0887\"], [0.1111111111111111, \"#46039f\"], [0.2222222222222222, \"#7201a8\"], [0.3333333333333333, \"#9c179e\"], [0.4444444444444444, \"#bd3786\"], [0.5555555555555556, \"#d8576b\"], [0.6666666666666666, \"#ed7953\"], [0.7777777777777778, \"#fb9f3a\"], [0.8888888888888888, \"#fdca26\"], [1.0, \"#f0f921\"]], \"sequentialminus\": [[0.0, \"#0d0887\"], [0.1111111111111111, \"#46039f\"], [0.2222222222222222, \"#7201a8\"], [0.3333333333333333, \"#9c179e\"], [0.4444444444444444, \"#bd3786\"], [0.5555555555555556, \"#d8576b\"], [0.6666666666666666, \"#ed7953\"], [0.7777777777777778, \"#fb9f3a\"], [0.8888888888888888, \"#fdca26\"], [1.0, \"#f0f921\"]]}, \"colorway\": [\"#636efa\", \"#EF553B\", \"#00cc96\", \"#ab63fa\", \"#FFA15A\", \"#19d3f3\", \"#FF6692\", \"#B6E880\", \"#FF97FF\", \"#FECB52\"], \"font\": {\"color\": \"#2a3f5f\"}, \"geo\": {\"bgcolor\": \"white\", \"lakecolor\": \"white\", \"landcolor\": \"#E5ECF6\", \"showlakes\": true, \"showland\": true, \"subunitcolor\": \"white\"}, \"hoverlabel\": {\"align\": \"left\"}, \"hovermode\": \"closest\", \"mapbox\": {\"style\": \"light\"}, \"paper_bgcolor\": \"white\", \"plot_bgcolor\": \"#E5ECF6\", \"polar\": {\"angularaxis\": {\"gridcolor\": \"white\", \"linecolor\": \"white\", \"ticks\": \"\"}, \"bgcolor\": \"#E5ECF6\", \"radialaxis\": {\"gridcolor\": \"white\", \"linecolor\": \"white\", \"ticks\": \"\"}}, \"scene\": {\"xaxis\": {\"backgroundcolor\": \"#E5ECF6\", \"gridcolor\": \"white\", \"gridwidth\": 2, \"linecolor\": \"white\", \"showbackground\": true, \"ticks\": \"\", \"zerolinecolor\": \"white\"}, \"yaxis\": {\"backgroundcolor\": \"#E5ECF6\", \"gridcolor\": \"white\", \"gridwidth\": 2, \"linecolor\": \"white\", \"showbackground\": true, \"ticks\": \"\", \"zerolinecolor\": \"white\"}, \"zaxis\": {\"backgroundcolor\": \"#E5ECF6\", \"gridcolor\": \"white\", \"gridwidth\": 2, \"linecolor\": \"white\", \"showbackground\": true, \"ticks\": \"\", \"zerolinecolor\": \"white\"}}, \"shapedefaults\": {\"line\": {\"color\": \"#2a3f5f\"}}, \"ternary\": {\"aaxis\": {\"gridcolor\": \"white\", \"linecolor\": \"white\", \"ticks\": \"\"}, \"baxis\": {\"gridcolor\": \"white\", \"linecolor\": \"white\", \"ticks\": \"\"}, \"bgcolor\": \"#E5ECF6\", \"caxis\": {\"gridcolor\": \"white\", \"linecolor\": \"white\", \"ticks\": \"\"}}, \"title\": {\"x\": 0.05}, \"xaxis\": {\"automargin\": true, \"gridcolor\": \"white\", \"linecolor\": \"white\", \"ticks\": \"\", \"title\": {\"standoff\": 15}, \"zerolinecolor\": \"white\", \"zerolinewidth\": 2}, \"yaxis\": {\"automargin\": true, \"gridcolor\": \"white\", \"linecolor\": \"white\", \"ticks\": \"\", \"title\": {\"standoff\": 15}, \"zerolinecolor\": \"white\", \"zerolinewidth\": 2}}}, \"title\": {\"text\": \"General Features - COVID-19 Data Sharing/BR - HSL dataset - 394 Covid-19 detected patients between 13 March and 16 April 2020\"}, \"width\": 1200, \"xaxis\": {\"anchor\": \"y\", \"domain\": [0.0, 0.16799999999999998], \"title\": {\"text\": \"IC_SEXO\"}}, \"xaxis2\": {\"anchor\": \"y2\", \"domain\": [0.208, 0.376], \"title\": {\"text\": \"Age Above 65\"}}, \"xaxis3\": {\"anchor\": \"y3\", \"domain\": [0.416, 0.584], \"title\": {\"text\": \"AGE_PERCENTIL\"}}, \"xaxis4\": {\"anchor\": \"y4\", \"domain\": [0.624, 0.792], \"title\": {\"text\": \"DE_ORIGEM\"}}, \"xaxis5\": {\"anchor\": \"y5\", \"domain\": [0.832, 1.0]}, \"yaxis\": {\"anchor\": \"x\", \"domain\": [0.0, 1.0]}, \"yaxis2\": {\"anchor\": \"x2\", \"domain\": [0.0, 1.0]}, \"yaxis3\": {\"anchor\": \"x3\", \"domain\": [0.0, 1.0]}, \"yaxis4\": {\"anchor\": \"x4\", \"domain\": [0.0, 1.0]}, \"yaxis5\": {\"anchor\": \"x5\", \"domain\": [0.0, 1.0]}},\n",
              "                        {\"responsive\": true}\n",
              "                    ).then(function(){\n",
              "                            \n",
              "var gd = document.getElementById('83ca45e2-47e0-4dba-b501-8b471aa796fd');\n",
              "var x = new MutationObserver(function (mutations, observer) {{\n",
              "        var display = window.getComputedStyle(gd).display;\n",
              "        if (!display || display === 'none') {{\n",
              "            console.log([gd, 'removed!']);\n",
              "            Plotly.purge(gd);\n",
              "            observer.disconnect();\n",
              "        }}\n",
              "}});\n",
              "\n",
              "// Listen for the removal of the full notebook cells\n",
              "var notebookContainer = gd.closest('#notebook-container');\n",
              "if (notebookContainer) {{\n",
              "    x.observe(notebookContainer, {childList: true});\n",
              "}}\n",
              "\n",
              "// Listen for the clearing of the current output cell\n",
              "var outputEl = gd.closest('.output');\n",
              "if (outputEl) {{\n",
              "    x.observe(outputEl, {childList: true});\n",
              "}}\n",
              "\n",
              "                        })\n",
              "                };\n",
              "                \n",
              "            </script>\n",
              "        </div>\n",
              "</body>\n",
              "</html>"
            ]
          },
          "metadata": {
            "tags": []
          }
        }
      ]
    },
    {
      "cell_type": "markdown",
      "metadata": {
        "id": "5EUSRZAQ_3de"
      },
      "source": [
        "#**Enfin, REAL LAB DATA!!!** But only for information for the moment - \n",
        "\n",
        "Here after, the object 'e_mer_a_b' is the most important derivative of all the work done on this notebook so far. \n",
        "\n",
        "The complete list of ALL LAB RESULTS AVAILABLE , from HSL_Exames.csv, for the selected group of 394 patients identified here above who had covid_19 test with result as 'DETECTED'.\n",
        "\n",
        "In my opinion this is in fact the most important deliver of this work. After some cleaning in a separated notebook it may deliver suitable material for predicitive modeling using machine learning tools.\n",
        "\n",
        "<font color = 'orange'>ATENTION - TBD - DELETE DUPLICATED 'DETECTED COVID TESTS "
      ]
    },
    {
      "cell_type": "code",
      "metadata": {
        "colab": {
          "base_uri": "https://localhost:8080/",
          "height": 1000
        },
        "id": "_VHI1APB_I17",
        "outputId": "3e45c06b-de34-4d1b-9d30-7e50d6cadaec"
      },
      "source": [
        "e_mer_a_b = pd.merge(left= e_mer_a_short, right= b, left_on='ID_PACIENTE', right_on='ID_PACIENTE')\n",
        "e_mer_a_b"
      ],
      "execution_count": 214,
      "outputs": [
        {
          "output_type": "execute_result",
          "data": {
            "text/html": [
              "<div>\n",
              "<style scoped>\n",
              "    .dataframe tbody tr th:only-of-type {\n",
              "        vertical-align: middle;\n",
              "    }\n",
              "\n",
              "    .dataframe tbody tr th {\n",
              "        vertical-align: top;\n",
              "    }\n",
              "\n",
              "    .dataframe thead th {\n",
              "        text-align: right;\n",
              "    }\n",
              "</style>\n",
              "<table border=\"1\" class=\"dataframe\">\n",
              "  <thead>\n",
              "    <tr style=\"text-align: right;\">\n",
              "      <th></th>\n",
              "      <th>ID_PACIENTE</th>\n",
              "      <th>DT_COLETA_x</th>\n",
              "      <th>DE_ORIGEM_x</th>\n",
              "      <th>DE_EXAME_x</th>\n",
              "      <th>DE_RESULTADO_x</th>\n",
              "      <th>IC_SEXO</th>\n",
              "      <th>AA_NASCIMENTO</th>\n",
              "      <th>CD_UF</th>\n",
              "      <th>CD_MUNICIPIO</th>\n",
              "      <th>Age</th>\n",
              "      <th>AGE_PERCENTIL</th>\n",
              "      <th>AGE_ABOVE65</th>\n",
              "      <th>ID_ATENDIMENTO</th>\n",
              "      <th>DT_COLETA_y</th>\n",
              "      <th>DE_ORIGEM_y</th>\n",
              "      <th>DE_EXAME_y</th>\n",
              "      <th>DE_ANALITO</th>\n",
              "      <th>DE_RESULTADO_y</th>\n",
              "      <th>CD_UNIDADE</th>\n",
              "      <th>DE_VALOR_REFERENCIA</th>\n",
              "    </tr>\n",
              "  </thead>\n",
              "  <tbody>\n",
              "    <tr>\n",
              "      <th>0</th>\n",
              "      <td>F7E83573967A24E11A5112615C3773B1</td>\n",
              "      <td>2020-03-14</td>\n",
              "      <td>Pronto Socorro</td>\n",
              "      <td>COVID-19-PCR para SARS-COV-2, Vários Materiais...</td>\n",
              "      <td>DETECTADO</td>\n",
              "      <td>M</td>\n",
              "      <td>1987</td>\n",
              "      <td>SP</td>\n",
              "      <td>SAO PAULO</td>\n",
              "      <td>33</td>\n",
              "      <td>1</td>\n",
              "      <td>0.0</td>\n",
              "      <td>A7FC98C5F2C09B6850A2F61A8181FE92</td>\n",
              "      <td>2020-03-14</td>\n",
              "      <td>Pronto Socorro</td>\n",
              "      <td>COVID-19-PCR para SARS-COV-2, Vários Materiais...</td>\n",
              "      <td>Coronavírus (2019-nCoV)</td>\n",
              "      <td>DETECTADO</td>\n",
              "      <td>-</td>\n",
              "      <td>Não detectado</td>\n",
              "    </tr>\n",
              "    <tr>\n",
              "      <th>1</th>\n",
              "      <td>0BDA7091799FDC805BB7E685CBAA5E08</td>\n",
              "      <td>2020-03-15</td>\n",
              "      <td>Pronto Socorro</td>\n",
              "      <td>COVID-19-PCR para SARS-COV-2, Vários Materiais...</td>\n",
              "      <td>DETECTADO</td>\n",
              "      <td>M</td>\n",
              "      <td>1992</td>\n",
              "      <td>SP</td>\n",
              "      <td>SAO PAULO</td>\n",
              "      <td>28</td>\n",
              "      <td>1</td>\n",
              "      <td>0.0</td>\n",
              "      <td>6F99828BFA195BEC951590A8C6B7F9CC</td>\n",
              "      <td>2020-03-15</td>\n",
              "      <td>Pronto Socorro</td>\n",
              "      <td>Antígeno, Influenza, Teste Rápido (AGINFLU)</td>\n",
              "      <td>Influenza A e B - teste rápido</td>\n",
              "      <td>NEGATIVO</td>\n",
              "      <td>ng/mL</td>\n",
              "      <td>Negativo</td>\n",
              "    </tr>\n",
              "    <tr>\n",
              "      <th>2</th>\n",
              "      <td>0BDA7091799FDC805BB7E685CBAA5E08</td>\n",
              "      <td>2020-03-15</td>\n",
              "      <td>Pronto Socorro</td>\n",
              "      <td>COVID-19-PCR para SARS-COV-2, Vários Materiais...</td>\n",
              "      <td>DETECTADO</td>\n",
              "      <td>M</td>\n",
              "      <td>1992</td>\n",
              "      <td>SP</td>\n",
              "      <td>SAO PAULO</td>\n",
              "      <td>28</td>\n",
              "      <td>1</td>\n",
              "      <td>0.0</td>\n",
              "      <td>6F99828BFA195BEC951590A8C6B7F9CC</td>\n",
              "      <td>2020-03-15</td>\n",
              "      <td>Pronto Socorro</td>\n",
              "      <td>COVID-19-PCR para SARS-COV-2, Vários Materiais...</td>\n",
              "      <td>Coronavírus (2019-nCoV)</td>\n",
              "      <td>DETECTADO</td>\n",
              "      <td>-</td>\n",
              "      <td>Não detectado</td>\n",
              "    </tr>\n",
              "    <tr>\n",
              "      <th>3</th>\n",
              "      <td>0BDA7091799FDC805BB7E685CBAA5E08</td>\n",
              "      <td>2020-03-15</td>\n",
              "      <td>Pronto Socorro</td>\n",
              "      <td>COVID-19-PCR para SARS-COV-2, Vários Materiais...</td>\n",
              "      <td>DETECTADO</td>\n",
              "      <td>M</td>\n",
              "      <td>1992</td>\n",
              "      <td>SP</td>\n",
              "      <td>SAO PAULO</td>\n",
              "      <td>28</td>\n",
              "      <td>1</td>\n",
              "      <td>0.0</td>\n",
              "      <td>34C0795625AEB623C12F74F324D89659</td>\n",
              "      <td>2020-03-12</td>\n",
              "      <td>Pronto Socorro</td>\n",
              "      <td>COVID-19-PCR para SARS-COV-2, Vários Materiais...</td>\n",
              "      <td>Coronavírus (2019-nCoV)</td>\n",
              "      <td>Inconclusivo</td>\n",
              "      <td>-</td>\n",
              "      <td>Indetectável</td>\n",
              "    </tr>\n",
              "    <tr>\n",
              "      <th>4</th>\n",
              "      <td>286063DF67714061B20D61212574F53D</td>\n",
              "      <td>2020-03-15</td>\n",
              "      <td>Pronto Socorro</td>\n",
              "      <td>COVID-19-PCR para SARS-COV-2, Vários Materiais...</td>\n",
              "      <td>DETECTADO</td>\n",
              "      <td>F</td>\n",
              "      <td>1951</td>\n",
              "      <td>SP</td>\n",
              "      <td>SAO PAULO</td>\n",
              "      <td>69</td>\n",
              "      <td>9</td>\n",
              "      <td>1.0</td>\n",
              "      <td>B166C59AB2F8DA4BFF0713FAB52D03E1</td>\n",
              "      <td>2020-03-15</td>\n",
              "      <td>Pronto Socorro</td>\n",
              "      <td>Tgo</td>\n",
              "      <td>AST (TGO)</td>\n",
              "      <td>39</td>\n",
              "      <td>U/L</td>\n",
              "      <td>Até 32</td>\n",
              "    </tr>\n",
              "    <tr>\n",
              "      <th>...</th>\n",
              "      <td>...</td>\n",
              "      <td>...</td>\n",
              "      <td>...</td>\n",
              "      <td>...</td>\n",
              "      <td>...</td>\n",
              "      <td>...</td>\n",
              "      <td>...</td>\n",
              "      <td>...</td>\n",
              "      <td>...</td>\n",
              "      <td>...</td>\n",
              "      <td>...</td>\n",
              "      <td>...</td>\n",
              "      <td>...</td>\n",
              "      <td>...</td>\n",
              "      <td>...</td>\n",
              "      <td>...</td>\n",
              "      <td>...</td>\n",
              "      <td>...</td>\n",
              "      <td>...</td>\n",
              "      <td>...</td>\n",
              "    </tr>\n",
              "    <tr>\n",
              "      <th>176364</th>\n",
              "      <td>D0C85DCA4A73D3299DBC6ADC46C6118D</td>\n",
              "      <td>2020-04-16</td>\n",
              "      <td>Unidades de Internação</td>\n",
              "      <td>COVID-19-PCR para SARS-COV-2, Vários Materiais...</td>\n",
              "      <td>DETECTADO</td>\n",
              "      <td>F</td>\n",
              "      <td>1976</td>\n",
              "      <td>UU</td>\n",
              "      <td>MMMM</td>\n",
              "      <td>44</td>\n",
              "      <td>4</td>\n",
              "      <td>0.0</td>\n",
              "      <td>34708D2132FBA524F137CD4A341AF9ED</td>\n",
              "      <td>2020-04-16</td>\n",
              "      <td>Unidades de Internação</td>\n",
              "      <td>Hemograma</td>\n",
              "      <td>Neutrófilos (%)</td>\n",
              "      <td>56,2</td>\n",
              "      <td>-</td>\n",
              "      <td>-</td>\n",
              "    </tr>\n",
              "    <tr>\n",
              "      <th>176365</th>\n",
              "      <td>D0C85DCA4A73D3299DBC6ADC46C6118D</td>\n",
              "      <td>2020-04-16</td>\n",
              "      <td>Unidades de Internação</td>\n",
              "      <td>COVID-19-PCR para SARS-COV-2, Vários Materiais...</td>\n",
              "      <td>DETECTADO</td>\n",
              "      <td>F</td>\n",
              "      <td>1976</td>\n",
              "      <td>UU</td>\n",
              "      <td>MMMM</td>\n",
              "      <td>44</td>\n",
              "      <td>4</td>\n",
              "      <td>0.0</td>\n",
              "      <td>34708D2132FBA524F137CD4A341AF9ED</td>\n",
              "      <td>2020-04-16</td>\n",
              "      <td>Unidades de Internação</td>\n",
              "      <td>Hemograma</td>\n",
              "      <td>Eosinófilos (%)</td>\n",
              "      <td>0,9</td>\n",
              "      <td>-</td>\n",
              "      <td>-</td>\n",
              "    </tr>\n",
              "    <tr>\n",
              "      <th>176366</th>\n",
              "      <td>D0C85DCA4A73D3299DBC6ADC46C6118D</td>\n",
              "      <td>2020-04-16</td>\n",
              "      <td>Unidades de Internação</td>\n",
              "      <td>COVID-19-PCR para SARS-COV-2, Vários Materiais...</td>\n",
              "      <td>DETECTADO</td>\n",
              "      <td>F</td>\n",
              "      <td>1976</td>\n",
              "      <td>UU</td>\n",
              "      <td>MMMM</td>\n",
              "      <td>44</td>\n",
              "      <td>4</td>\n",
              "      <td>0.0</td>\n",
              "      <td>34708D2132FBA524F137CD4A341AF9ED</td>\n",
              "      <td>2020-04-16</td>\n",
              "      <td>Unidades de Internação</td>\n",
              "      <td>Hemograma</td>\n",
              "      <td>Monócitos (%)</td>\n",
              "      <td>19,7</td>\n",
              "      <td>-</td>\n",
              "      <td>-</td>\n",
              "    </tr>\n",
              "    <tr>\n",
              "      <th>176367</th>\n",
              "      <td>DCC27BD0D0A974D63A1A39AC47678C5F</td>\n",
              "      <td>2020-04-16</td>\n",
              "      <td>Pronto Socorro</td>\n",
              "      <td>COVID-19-PCR para SARS-COV-2, Vários Materiais...</td>\n",
              "      <td>DETECTADO</td>\n",
              "      <td>M</td>\n",
              "      <td>1969</td>\n",
              "      <td>SP</td>\n",
              "      <td>MMMM</td>\n",
              "      <td>51</td>\n",
              "      <td>6</td>\n",
              "      <td>0.0</td>\n",
              "      <td>38757F5026C3CA710B03595C6A300473</td>\n",
              "      <td>2020-04-16</td>\n",
              "      <td>Pronto Socorro</td>\n",
              "      <td>COVID-19-PCR para SARS-COV-2, Vários Materiais...</td>\n",
              "      <td>Coronavírus (2019-nCoV)</td>\n",
              "      <td>DETECTADO</td>\n",
              "      <td>-</td>\n",
              "      <td>Não detectado</td>\n",
              "    </tr>\n",
              "    <tr>\n",
              "      <th>176368</th>\n",
              "      <td>DCC27BD0D0A974D63A1A39AC47678C5F</td>\n",
              "      <td>2020-04-16</td>\n",
              "      <td>Pronto Socorro</td>\n",
              "      <td>COVID-19-PCR para SARS-COV-2, Vários Materiais...</td>\n",
              "      <td>DETECTADO</td>\n",
              "      <td>M</td>\n",
              "      <td>1969</td>\n",
              "      <td>SP</td>\n",
              "      <td>MMMM</td>\n",
              "      <td>51</td>\n",
              "      <td>6</td>\n",
              "      <td>0.0</td>\n",
              "      <td>38757F5026C3CA710B03595C6A300473</td>\n",
              "      <td>2020-04-16</td>\n",
              "      <td>Pronto Socorro</td>\n",
              "      <td>COVID-19-PCR para SARS-COV-2, Vários Materiais...</td>\n",
              "      <td>Material (2019-nCoV)</td>\n",
              "      <td>swab de nasofaringe</td>\n",
              "      <td>-</td>\n",
              "      <td>-</td>\n",
              "    </tr>\n",
              "  </tbody>\n",
              "</table>\n",
              "<p>176369 rows × 20 columns</p>\n",
              "</div>"
            ],
            "text/plain": [
              "                             ID_PACIENTE  ... DE_VALOR_REFERENCIA\n",
              "0       F7E83573967A24E11A5112615C3773B1  ...       Não detectado\n",
              "1       0BDA7091799FDC805BB7E685CBAA5E08  ...            Negativo\n",
              "2       0BDA7091799FDC805BB7E685CBAA5E08  ...       Não detectado\n",
              "3       0BDA7091799FDC805BB7E685CBAA5E08  ...        Indetectável\n",
              "4       286063DF67714061B20D61212574F53D  ...              Até 32\n",
              "...                                  ...  ...                 ...\n",
              "176364  D0C85DCA4A73D3299DBC6ADC46C6118D  ...                   -\n",
              "176365  D0C85DCA4A73D3299DBC6ADC46C6118D  ...                   -\n",
              "176366  D0C85DCA4A73D3299DBC6ADC46C6118D  ...                   -\n",
              "176367  DCC27BD0D0A974D63A1A39AC47678C5F  ...       Não detectado\n",
              "176368  DCC27BD0D0A974D63A1A39AC47678C5F  ...                   -\n",
              "\n",
              "[176369 rows x 20 columns]"
            ]
          },
          "metadata": {
            "tags": []
          },
          "execution_count": 214
        }
      ]
    },
    {
      "cell_type": "markdown",
      "metadata": {
        "id": "BBCa5faTT5fd"
      },
      "source": [
        "# d - HSL_Desfechos.csv"
      ]
    },
    {
      "cell_type": "code",
      "metadata": {
        "id": "snuBP5teRZys"
      },
      "source": [
        "d = pd.read_csv('/content/drive/MyDrive/Alura DS Bootcamp/Modulo 5 - Colab - ML - Modelos, Metricas e Validacao/M5 - Projeto/HSL_Desfechos.csv', sep='|')"
      ],
      "execution_count": 215,
      "outputs": []
    },
    {
      "cell_type": "code",
      "metadata": {
        "colab": {
          "base_uri": "https://localhost:8080/",
          "height": 145
        },
        "id": "MhzzRkUx4XZg",
        "outputId": "45537629-2741-41bb-e031-fd21e2cb0234"
      },
      "source": [
        "d.head(2)"
      ],
      "execution_count": 216,
      "outputs": [
        {
          "output_type": "execute_result",
          "data": {
            "text/html": [
              "<div>\n",
              "<style scoped>\n",
              "    .dataframe tbody tr th:only-of-type {\n",
              "        vertical-align: middle;\n",
              "    }\n",
              "\n",
              "    .dataframe tbody tr th {\n",
              "        vertical-align: top;\n",
              "    }\n",
              "\n",
              "    .dataframe thead th {\n",
              "        text-align: right;\n",
              "    }\n",
              "</style>\n",
              "<table border=\"1\" class=\"dataframe\">\n",
              "  <thead>\n",
              "    <tr style=\"text-align: right;\">\n",
              "      <th></th>\n",
              "      <th>ID_PACIENTE</th>\n",
              "      <th>ID_ATENDIMENTO</th>\n",
              "      <th>DT_ATENDIMENTO</th>\n",
              "      <th>DE_TIPO_ATENDIMENTO</th>\n",
              "      <th>ID_CLINICA</th>\n",
              "      <th>DE_CLINICA</th>\n",
              "      <th>DT_DESFECHO</th>\n",
              "      <th>DE_DESFECHO</th>\n",
              "    </tr>\n",
              "  </thead>\n",
              "  <tbody>\n",
              "    <tr>\n",
              "      <th>0</th>\n",
              "      <td>11B85F4A508BF2FA4DB48A6E530C2A5B</td>\n",
              "      <td>713BB4E254E57FA4AB267CF62D957FAF</td>\n",
              "      <td>26/02/2020</td>\n",
              "      <td>Pronto Atendimento</td>\n",
              "      <td>1</td>\n",
              "      <td>Clínica Médica</td>\n",
              "      <td>26/02/2020</td>\n",
              "      <td>Desistência do atendimento</td>\n",
              "    </tr>\n",
              "    <tr>\n",
              "      <th>1</th>\n",
              "      <td>DB7395E28629DF249E99ED182D0CAD24</td>\n",
              "      <td>7CF2CA5CE251F22855C0078E9C6B3314</td>\n",
              "      <td>27/03/2021</td>\n",
              "      <td>Pronto Atendimento</td>\n",
              "      <td>1</td>\n",
              "      <td>Clínica Médica</td>\n",
              "      <td>27/03/2021</td>\n",
              "      <td>Desistência do atendimento</td>\n",
              "    </tr>\n",
              "  </tbody>\n",
              "</table>\n",
              "</div>"
            ],
            "text/plain": [
              "                        ID_PACIENTE  ...                 DE_DESFECHO\n",
              "0  11B85F4A508BF2FA4DB48A6E530C2A5B  ...  Desistência do atendimento\n",
              "1  DB7395E28629DF249E99ED182D0CAD24  ...  Desistência do atendimento\n",
              "\n",
              "[2 rows x 8 columns]"
            ]
          },
          "metadata": {
            "tags": []
          },
          "execution_count": 216
        }
      ]
    },
    {
      "cell_type": "code",
      "metadata": {
        "id": "cQzYigRnUfSg",
        "colab": {
          "base_uri": "https://localhost:8080/"
        },
        "outputId": "def5dd36-0e7b-467a-afea-8e0530140ab5"
      },
      "source": [
        "d.shape"
      ],
      "execution_count": 217,
      "outputs": [
        {
          "output_type": "execute_result",
          "data": {
            "text/plain": [
              "(89937, 8)"
            ]
          },
          "metadata": {
            "tags": []
          },
          "execution_count": 217
        }
      ]
    },
    {
      "cell_type": "code",
      "metadata": {
        "id": "ePfAafTzUoFs",
        "colab": {
          "base_uri": "https://localhost:8080/"
        },
        "outputId": "adc0ffc2-3566-412c-e525-7bbea63dbef1"
      },
      "source": [
        "d.ID_PACIENTE.duplicated().sum()"
      ],
      "execution_count": 218,
      "outputs": [
        {
          "output_type": "execute_result",
          "data": {
            "text/plain": [
              "75265"
            ]
          },
          "metadata": {
            "tags": []
          },
          "execution_count": 218
        }
      ]
    },
    {
      "cell_type": "code",
      "metadata": {
        "colab": {
          "base_uri": "https://localhost:8080/",
          "height": 1000
        },
        "id": "Cx2EffXB4nfk",
        "outputId": "2fc6e698-c2ff-460c-9d92-77f0059e9c72"
      },
      "source": [
        "e_mer_a_short_d = pd.merge(left= e_mer_a_short, right= d, left_on='ID_PACIENTE', right_on='ID_PACIENTE')\n",
        "e_mer_a_short_d"
      ],
      "execution_count": 219,
      "outputs": [
        {
          "output_type": "execute_result",
          "data": {
            "text/html": [
              "<div>\n",
              "<style scoped>\n",
              "    .dataframe tbody tr th:only-of-type {\n",
              "        vertical-align: middle;\n",
              "    }\n",
              "\n",
              "    .dataframe tbody tr th {\n",
              "        vertical-align: top;\n",
              "    }\n",
              "\n",
              "    .dataframe thead th {\n",
              "        text-align: right;\n",
              "    }\n",
              "</style>\n",
              "<table border=\"1\" class=\"dataframe\">\n",
              "  <thead>\n",
              "    <tr style=\"text-align: right;\">\n",
              "      <th></th>\n",
              "      <th>ID_PACIENTE</th>\n",
              "      <th>DT_COLETA</th>\n",
              "      <th>DE_ORIGEM</th>\n",
              "      <th>DE_EXAME</th>\n",
              "      <th>DE_RESULTADO</th>\n",
              "      <th>IC_SEXO</th>\n",
              "      <th>AA_NASCIMENTO</th>\n",
              "      <th>CD_UF</th>\n",
              "      <th>CD_MUNICIPIO</th>\n",
              "      <th>Age</th>\n",
              "      <th>AGE_PERCENTIL</th>\n",
              "      <th>AGE_ABOVE65</th>\n",
              "      <th>ID_ATENDIMENTO</th>\n",
              "      <th>DT_ATENDIMENTO</th>\n",
              "      <th>DE_TIPO_ATENDIMENTO</th>\n",
              "      <th>ID_CLINICA</th>\n",
              "      <th>DE_CLINICA</th>\n",
              "      <th>DT_DESFECHO</th>\n",
              "      <th>DE_DESFECHO</th>\n",
              "    </tr>\n",
              "  </thead>\n",
              "  <tbody>\n",
              "    <tr>\n",
              "      <th>0</th>\n",
              "      <td>F7E83573967A24E11A5112615C3773B1</td>\n",
              "      <td>2020-03-14</td>\n",
              "      <td>Pronto Socorro</td>\n",
              "      <td>COVID-19-PCR para SARS-COV-2, Vários Materiais...</td>\n",
              "      <td>DETECTADO</td>\n",
              "      <td>M</td>\n",
              "      <td>1987</td>\n",
              "      <td>SP</td>\n",
              "      <td>SAO PAULO</td>\n",
              "      <td>33</td>\n",
              "      <td>1</td>\n",
              "      <td>0.0</td>\n",
              "      <td>A7FC98C5F2C09B6850A2F61A8181FE92</td>\n",
              "      <td>14/03/2020</td>\n",
              "      <td>Pronto Atendimento</td>\n",
              "      <td>42</td>\n",
              "      <td>CL Médica Síndromes Virais</td>\n",
              "      <td>14/03/2020</td>\n",
              "      <td>Alta médica melhorado</td>\n",
              "    </tr>\n",
              "    <tr>\n",
              "      <th>1</th>\n",
              "      <td>0BDA7091799FDC805BB7E685CBAA5E08</td>\n",
              "      <td>2020-03-15</td>\n",
              "      <td>Pronto Socorro</td>\n",
              "      <td>COVID-19-PCR para SARS-COV-2, Vários Materiais...</td>\n",
              "      <td>DETECTADO</td>\n",
              "      <td>M</td>\n",
              "      <td>1992</td>\n",
              "      <td>SP</td>\n",
              "      <td>SAO PAULO</td>\n",
              "      <td>28</td>\n",
              "      <td>1</td>\n",
              "      <td>0.0</td>\n",
              "      <td>34C0795625AEB623C12F74F324D89659</td>\n",
              "      <td>12/03/2020</td>\n",
              "      <td>Pronto Atendimento</td>\n",
              "      <td>42</td>\n",
              "      <td>CL Médica Síndromes Virais</td>\n",
              "      <td>12/03/2020</td>\n",
              "      <td>Alta médica melhorado</td>\n",
              "    </tr>\n",
              "    <tr>\n",
              "      <th>2</th>\n",
              "      <td>0BDA7091799FDC805BB7E685CBAA5E08</td>\n",
              "      <td>2020-03-15</td>\n",
              "      <td>Pronto Socorro</td>\n",
              "      <td>COVID-19-PCR para SARS-COV-2, Vários Materiais...</td>\n",
              "      <td>DETECTADO</td>\n",
              "      <td>M</td>\n",
              "      <td>1992</td>\n",
              "      <td>SP</td>\n",
              "      <td>SAO PAULO</td>\n",
              "      <td>28</td>\n",
              "      <td>1</td>\n",
              "      <td>0.0</td>\n",
              "      <td>6F99828BFA195BEC951590A8C6B7F9CC</td>\n",
              "      <td>15/03/2020</td>\n",
              "      <td>Pronto Atendimento</td>\n",
              "      <td>42</td>\n",
              "      <td>CL Médica Síndromes Virais</td>\n",
              "      <td>15/03/2020</td>\n",
              "      <td>Alta médica melhorado</td>\n",
              "    </tr>\n",
              "    <tr>\n",
              "      <th>3</th>\n",
              "      <td>0BDA7091799FDC805BB7E685CBAA5E08</td>\n",
              "      <td>2020-03-15</td>\n",
              "      <td>Pronto Socorro</td>\n",
              "      <td>COVID-19-PCR para SARS-COV-2, Vários Materiais...</td>\n",
              "      <td>DETECTADO</td>\n",
              "      <td>M</td>\n",
              "      <td>1992</td>\n",
              "      <td>SP</td>\n",
              "      <td>SAO PAULO</td>\n",
              "      <td>28</td>\n",
              "      <td>1</td>\n",
              "      <td>0.0</td>\n",
              "      <td>6D39A45447CE377899E1FAF72CA29105</td>\n",
              "      <td>18/03/2020</td>\n",
              "      <td>Pronto Atendimento</td>\n",
              "      <td>1013</td>\n",
              "      <td>Retorno Digital Adulto</td>\n",
              "      <td>18/03/2020</td>\n",
              "      <td>Alta médica melhorado</td>\n",
              "    </tr>\n",
              "    <tr>\n",
              "      <th>4</th>\n",
              "      <td>286063DF67714061B20D61212574F53D</td>\n",
              "      <td>2020-03-15</td>\n",
              "      <td>Pronto Socorro</td>\n",
              "      <td>COVID-19-PCR para SARS-COV-2, Vários Materiais...</td>\n",
              "      <td>DETECTADO</td>\n",
              "      <td>F</td>\n",
              "      <td>1951</td>\n",
              "      <td>SP</td>\n",
              "      <td>SAO PAULO</td>\n",
              "      <td>69</td>\n",
              "      <td>9</td>\n",
              "      <td>1.0</td>\n",
              "      <td>B166C59AB2F8DA4BFF0713FAB52D03E1</td>\n",
              "      <td>15/03/2020</td>\n",
              "      <td>Pronto Atendimento</td>\n",
              "      <td>1</td>\n",
              "      <td>Clínica Médica</td>\n",
              "      <td>15/03/2020</td>\n",
              "      <td>Alta médica melhorado</td>\n",
              "    </tr>\n",
              "    <tr>\n",
              "      <th>...</th>\n",
              "      <td>...</td>\n",
              "      <td>...</td>\n",
              "      <td>...</td>\n",
              "      <td>...</td>\n",
              "      <td>...</td>\n",
              "      <td>...</td>\n",
              "      <td>...</td>\n",
              "      <td>...</td>\n",
              "      <td>...</td>\n",
              "      <td>...</td>\n",
              "      <td>...</td>\n",
              "      <td>...</td>\n",
              "      <td>...</td>\n",
              "      <td>...</td>\n",
              "      <td>...</td>\n",
              "      <td>...</td>\n",
              "      <td>...</td>\n",
              "      <td>...</td>\n",
              "      <td>...</td>\n",
              "    </tr>\n",
              "    <tr>\n",
              "      <th>2400</th>\n",
              "      <td>DCC27BD0D0A974D63A1A39AC47678C5F</td>\n",
              "      <td>2020-04-16</td>\n",
              "      <td>Pronto Socorro</td>\n",
              "      <td>COVID-19-PCR para SARS-COV-2, Vários Materiais...</td>\n",
              "      <td>DETECTADO</td>\n",
              "      <td>M</td>\n",
              "      <td>1969</td>\n",
              "      <td>SP</td>\n",
              "      <td>MMMM</td>\n",
              "      <td>51</td>\n",
              "      <td>6</td>\n",
              "      <td>0.0</td>\n",
              "      <td>38757F5026C3CA710B03595C6A300473</td>\n",
              "      <td>16/04/2020</td>\n",
              "      <td>Pronto Atendimento</td>\n",
              "      <td>42</td>\n",
              "      <td>CL Médica Síndromes Virais</td>\n",
              "      <td>16/04/2020</td>\n",
              "      <td>Alta médica melhorado</td>\n",
              "    </tr>\n",
              "    <tr>\n",
              "      <th>2401</th>\n",
              "      <td>DCC27BD0D0A974D63A1A39AC47678C5F</td>\n",
              "      <td>2020-04-16</td>\n",
              "      <td>Pronto Socorro</td>\n",
              "      <td>COVID-19-PCR para SARS-COV-2, Vários Materiais...</td>\n",
              "      <td>DETECTADO</td>\n",
              "      <td>M</td>\n",
              "      <td>1969</td>\n",
              "      <td>SP</td>\n",
              "      <td>MMMM</td>\n",
              "      <td>51</td>\n",
              "      <td>6</td>\n",
              "      <td>0.0</td>\n",
              "      <td>98E6FED45D7E285F6A1A888BB67E27F4</td>\n",
              "      <td>20/04/2020</td>\n",
              "      <td>Pronto Atendimento</td>\n",
              "      <td>1015</td>\n",
              "      <td>Consulta Digital Adulto</td>\n",
              "      <td>20/04/2020</td>\n",
              "      <td>Alta médica melhorado</td>\n",
              "    </tr>\n",
              "    <tr>\n",
              "      <th>2402</th>\n",
              "      <td>DCC27BD0D0A974D63A1A39AC47678C5F</td>\n",
              "      <td>2020-04-16</td>\n",
              "      <td>Pronto Socorro</td>\n",
              "      <td>COVID-19-PCR para SARS-COV-2, Vários Materiais...</td>\n",
              "      <td>DETECTADO</td>\n",
              "      <td>M</td>\n",
              "      <td>1969</td>\n",
              "      <td>SP</td>\n",
              "      <td>MMMM</td>\n",
              "      <td>51</td>\n",
              "      <td>6</td>\n",
              "      <td>0.0</td>\n",
              "      <td>1A84D86F7616F092B0C69A946AF131F8</td>\n",
              "      <td>30/04/2020</td>\n",
              "      <td>Pronto Atendimento</td>\n",
              "      <td>1015</td>\n",
              "      <td>Consulta Digital Adulto</td>\n",
              "      <td>30/04/2020</td>\n",
              "      <td>Alta médica melhorado</td>\n",
              "    </tr>\n",
              "    <tr>\n",
              "      <th>2403</th>\n",
              "      <td>DCC27BD0D0A974D63A1A39AC47678C5F</td>\n",
              "      <td>2020-04-16</td>\n",
              "      <td>Pronto Socorro</td>\n",
              "      <td>COVID-19-PCR para SARS-COV-2, Vários Materiais...</td>\n",
              "      <td>DETECTADO</td>\n",
              "      <td>M</td>\n",
              "      <td>1969</td>\n",
              "      <td>SP</td>\n",
              "      <td>MMMM</td>\n",
              "      <td>51</td>\n",
              "      <td>6</td>\n",
              "      <td>0.0</td>\n",
              "      <td>F19CEB74900348A72B93110CD2ECE3B9</td>\n",
              "      <td>30/04/2020</td>\n",
              "      <td>Pronto Atendimento</td>\n",
              "      <td>1015</td>\n",
              "      <td>Consulta Digital Adulto</td>\n",
              "      <td>30/04/2020</td>\n",
              "      <td>Alta médica melhorado</td>\n",
              "    </tr>\n",
              "    <tr>\n",
              "      <th>2404</th>\n",
              "      <td>DCC27BD0D0A974D63A1A39AC47678C5F</td>\n",
              "      <td>2020-04-16</td>\n",
              "      <td>Pronto Socorro</td>\n",
              "      <td>COVID-19-PCR para SARS-COV-2, Vários Materiais...</td>\n",
              "      <td>DETECTADO</td>\n",
              "      <td>M</td>\n",
              "      <td>1969</td>\n",
              "      <td>SP</td>\n",
              "      <td>MMMM</td>\n",
              "      <td>51</td>\n",
              "      <td>6</td>\n",
              "      <td>0.0</td>\n",
              "      <td>EE6293592F8C5BCE74C5D9D082AC568D</td>\n",
              "      <td>23/04/2020</td>\n",
              "      <td>Pronto Atendimento</td>\n",
              "      <td>1015</td>\n",
              "      <td>Consulta Digital Adulto</td>\n",
              "      <td>23/04/2020</td>\n",
              "      <td>Alta médica melhorado</td>\n",
              "    </tr>\n",
              "  </tbody>\n",
              "</table>\n",
              "<p>2405 rows × 19 columns</p>\n",
              "</div>"
            ],
            "text/plain": [
              "                           ID_PACIENTE  ...            DE_DESFECHO\n",
              "0     F7E83573967A24E11A5112615C3773B1  ...  Alta médica melhorado\n",
              "1     0BDA7091799FDC805BB7E685CBAA5E08  ...  Alta médica melhorado\n",
              "2     0BDA7091799FDC805BB7E685CBAA5E08  ...  Alta médica melhorado\n",
              "3     0BDA7091799FDC805BB7E685CBAA5E08  ...  Alta médica melhorado\n",
              "4     286063DF67714061B20D61212574F53D  ...  Alta médica melhorado\n",
              "...                                ...  ...                    ...\n",
              "2400  DCC27BD0D0A974D63A1A39AC47678C5F  ...  Alta médica melhorado\n",
              "2401  DCC27BD0D0A974D63A1A39AC47678C5F  ...  Alta médica melhorado\n",
              "2402  DCC27BD0D0A974D63A1A39AC47678C5F  ...  Alta médica melhorado\n",
              "2403  DCC27BD0D0A974D63A1A39AC47678C5F  ...  Alta médica melhorado\n",
              "2404  DCC27BD0D0A974D63A1A39AC47678C5F  ...  Alta médica melhorado\n",
              "\n",
              "[2405 rows x 19 columns]"
            ]
          },
          "metadata": {
            "tags": []
          },
          "execution_count": 219
        }
      ]
    },
    {
      "cell_type": "code",
      "metadata": {
        "colab": {
          "base_uri": "https://localhost:8080/",
          "height": 1000
        },
        "id": "2AGpmuvR7JJw",
        "outputId": "58df4f5b-c69a-4e9d-d2d7-c4b73bac5b47"
      },
      "source": [
        "j = e_mer_a_short_d[e_mer_a_short_d['DE_ORIGEM'].isin(['UTI'])]\n",
        "j"
      ],
      "execution_count": 220,
      "outputs": [
        {
          "output_type": "execute_result",
          "data": {
            "text/html": [
              "<div>\n",
              "<style scoped>\n",
              "    .dataframe tbody tr th:only-of-type {\n",
              "        vertical-align: middle;\n",
              "    }\n",
              "\n",
              "    .dataframe tbody tr th {\n",
              "        vertical-align: top;\n",
              "    }\n",
              "\n",
              "    .dataframe thead th {\n",
              "        text-align: right;\n",
              "    }\n",
              "</style>\n",
              "<table border=\"1\" class=\"dataframe\">\n",
              "  <thead>\n",
              "    <tr style=\"text-align: right;\">\n",
              "      <th></th>\n",
              "      <th>ID_PACIENTE</th>\n",
              "      <th>DT_COLETA</th>\n",
              "      <th>DE_ORIGEM</th>\n",
              "      <th>DE_EXAME</th>\n",
              "      <th>DE_RESULTADO</th>\n",
              "      <th>IC_SEXO</th>\n",
              "      <th>AA_NASCIMENTO</th>\n",
              "      <th>CD_UF</th>\n",
              "      <th>CD_MUNICIPIO</th>\n",
              "      <th>Age</th>\n",
              "      <th>AGE_PERCENTIL</th>\n",
              "      <th>AGE_ABOVE65</th>\n",
              "      <th>ID_ATENDIMENTO</th>\n",
              "      <th>DT_ATENDIMENTO</th>\n",
              "      <th>DE_TIPO_ATENDIMENTO</th>\n",
              "      <th>ID_CLINICA</th>\n",
              "      <th>DE_CLINICA</th>\n",
              "      <th>DT_DESFECHO</th>\n",
              "      <th>DE_DESFECHO</th>\n",
              "    </tr>\n",
              "  </thead>\n",
              "  <tbody>\n",
              "    <tr>\n",
              "      <th>89</th>\n",
              "      <td>50EAE88A08F0733746E88F4E1ACFD8A4</td>\n",
              "      <td>2020-03-16</td>\n",
              "      <td>UTI</td>\n",
              "      <td>COVID-19-PCR para SARS-COV-2, Vários Materiais...</td>\n",
              "      <td>DETECTADO</td>\n",
              "      <td>M</td>\n",
              "      <td>1953</td>\n",
              "      <td>UU</td>\n",
              "      <td>MMMM</td>\n",
              "      <td>67</td>\n",
              "      <td>8</td>\n",
              "      <td>1.0</td>\n",
              "      <td>25759F2EFE993C6BFBBAC56FD7F343EE</td>\n",
              "      <td>16/03/2020</td>\n",
              "      <td>Internado</td>\n",
              "      <td>1</td>\n",
              "      <td>Clínica Médica</td>\n",
              "      <td>28/04/2020</td>\n",
              "      <td>Alta médica melhorado</td>\n",
              "    </tr>\n",
              "    <tr>\n",
              "      <th>90</th>\n",
              "      <td>50EAE88A08F0733746E88F4E1ACFD8A4</td>\n",
              "      <td>2020-03-16</td>\n",
              "      <td>UTI</td>\n",
              "      <td>COVID-19-PCR para SARS-COV-2, Vários Materiais...</td>\n",
              "      <td>DETECTADO</td>\n",
              "      <td>M</td>\n",
              "      <td>1953</td>\n",
              "      <td>UU</td>\n",
              "      <td>MMMM</td>\n",
              "      <td>67</td>\n",
              "      <td>8</td>\n",
              "      <td>1.0</td>\n",
              "      <td>331A55D17D7EA8CCA013460BC0AE3562</td>\n",
              "      <td>26/07/2020</td>\n",
              "      <td>Internado</td>\n",
              "      <td>1</td>\n",
              "      <td>Clínica Médica</td>\n",
              "      <td>28/07/2020</td>\n",
              "      <td>Alta médica melhorado</td>\n",
              "    </tr>\n",
              "    <tr>\n",
              "      <th>116</th>\n",
              "      <td>6F0A6A0E0839924AD125035171DD456F</td>\n",
              "      <td>2020-04-13</td>\n",
              "      <td>UTI</td>\n",
              "      <td>COVID-19-PCR para SARS-COV-2, Vários Materiais...</td>\n",
              "      <td>DETECTADO</td>\n",
              "      <td>F</td>\n",
              "      <td>1972</td>\n",
              "      <td>DF</td>\n",
              "      <td>BRASILIA</td>\n",
              "      <td>48</td>\n",
              "      <td>5</td>\n",
              "      <td>0.0</td>\n",
              "      <td>F04D00577DEA08C3AE78E5E545DBE736</td>\n",
              "      <td>30/03/2020</td>\n",
              "      <td>Pronto Atendimento</td>\n",
              "      <td>1</td>\n",
              "      <td>Clínica Médica</td>\n",
              "      <td>05/04/2020</td>\n",
              "      <td>Alta médica melhorado</td>\n",
              "    </tr>\n",
              "    <tr>\n",
              "      <th>117</th>\n",
              "      <td>6F0A6A0E0839924AD125035171DD456F</td>\n",
              "      <td>2020-04-13</td>\n",
              "      <td>UTI</td>\n",
              "      <td>COVID-19-PCR para SARS-COV-2, Vários Materiais...</td>\n",
              "      <td>DETECTADO</td>\n",
              "      <td>F</td>\n",
              "      <td>1972</td>\n",
              "      <td>DF</td>\n",
              "      <td>BRASILIA</td>\n",
              "      <td>48</td>\n",
              "      <td>5</td>\n",
              "      <td>0.0</td>\n",
              "      <td>CA4D388D7D3B2978A5C6E4EC71EF7071</td>\n",
              "      <td>28/03/2020</td>\n",
              "      <td>Pronto Atendimento</td>\n",
              "      <td>1</td>\n",
              "      <td>Clínica Médica</td>\n",
              "      <td>29/03/2020</td>\n",
              "      <td>Alta médica melhorado</td>\n",
              "    </tr>\n",
              "    <tr>\n",
              "      <th>118</th>\n",
              "      <td>6F0A6A0E0839924AD125035171DD456F</td>\n",
              "      <td>2020-04-13</td>\n",
              "      <td>UTI</td>\n",
              "      <td>COVID-19-PCR para SARS-COV-2, Vários Materiais...</td>\n",
              "      <td>DETECTADO</td>\n",
              "      <td>F</td>\n",
              "      <td>1972</td>\n",
              "      <td>DF</td>\n",
              "      <td>BRASILIA</td>\n",
              "      <td>48</td>\n",
              "      <td>5</td>\n",
              "      <td>0.0</td>\n",
              "      <td>B21F84C5F3261CB39E9911A937F790CB</td>\n",
              "      <td>16/03/2020</td>\n",
              "      <td>Pronto Atendimento</td>\n",
              "      <td>1</td>\n",
              "      <td>Clínica Médica</td>\n",
              "      <td>17/03/2020</td>\n",
              "      <td>Alta médica curado</td>\n",
              "    </tr>\n",
              "    <tr>\n",
              "      <th>...</th>\n",
              "      <td>...</td>\n",
              "      <td>...</td>\n",
              "      <td>...</td>\n",
              "      <td>...</td>\n",
              "      <td>...</td>\n",
              "      <td>...</td>\n",
              "      <td>...</td>\n",
              "      <td>...</td>\n",
              "      <td>...</td>\n",
              "      <td>...</td>\n",
              "      <td>...</td>\n",
              "      <td>...</td>\n",
              "      <td>...</td>\n",
              "      <td>...</td>\n",
              "      <td>...</td>\n",
              "      <td>...</td>\n",
              "      <td>...</td>\n",
              "      <td>...</td>\n",
              "      <td>...</td>\n",
              "    </tr>\n",
              "    <tr>\n",
              "      <th>2182</th>\n",
              "      <td>B36EE73FD954C998537979EE316F51D9</td>\n",
              "      <td>2020-04-12</td>\n",
              "      <td>UTI</td>\n",
              "      <td>COVID-19-PCR para SARS-COV-2, Vários Materiais...</td>\n",
              "      <td>DETECTADO</td>\n",
              "      <td>M</td>\n",
              "      <td>1943</td>\n",
              "      <td>SP</td>\n",
              "      <td>SAO PAULO</td>\n",
              "      <td>77</td>\n",
              "      <td>10</td>\n",
              "      <td>1.0</td>\n",
              "      <td>1717CEA03CB131CAC428C604ED3D759F</td>\n",
              "      <td>16/03/2020</td>\n",
              "      <td>Internado</td>\n",
              "      <td>1</td>\n",
              "      <td>Clínica Médica</td>\n",
              "      <td>23/03/2020</td>\n",
              "      <td>Alta médica melhorado</td>\n",
              "    </tr>\n",
              "    <tr>\n",
              "      <th>2216</th>\n",
              "      <td>7B03A278AD0026D4E34D0D84453A3548</td>\n",
              "      <td>2020-04-13</td>\n",
              "      <td>UTI</td>\n",
              "      <td>COVID-19-PCR para SARS-COV-2, Vários Materiais...</td>\n",
              "      <td>DETECTADO</td>\n",
              "      <td>M</td>\n",
              "      <td>1936</td>\n",
              "      <td>SP</td>\n",
              "      <td>SAO PAULO</td>\n",
              "      <td>84</td>\n",
              "      <td>10</td>\n",
              "      <td>1.0</td>\n",
              "      <td>B2B7FA0080EDC2696520933A9C7DF3B2</td>\n",
              "      <td>10/03/2020</td>\n",
              "      <td>Externo</td>\n",
              "      <td>20</td>\n",
              "      <td>Procedimentos</td>\n",
              "      <td>10/03/2020</td>\n",
              "      <td>Alta Administrativa</td>\n",
              "    </tr>\n",
              "    <tr>\n",
              "      <th>2217</th>\n",
              "      <td>7B03A278AD0026D4E34D0D84453A3548</td>\n",
              "      <td>2020-04-13</td>\n",
              "      <td>UTI</td>\n",
              "      <td>COVID-19-PCR para SARS-COV-2, Vários Materiais...</td>\n",
              "      <td>DETECTADO</td>\n",
              "      <td>M</td>\n",
              "      <td>1936</td>\n",
              "      <td>SP</td>\n",
              "      <td>SAO PAULO</td>\n",
              "      <td>84</td>\n",
              "      <td>10</td>\n",
              "      <td>1.0</td>\n",
              "      <td>F9C0E78ABCD5FFE7A7AEFE8DC937C013</td>\n",
              "      <td>13/04/2020</td>\n",
              "      <td>Internado</td>\n",
              "      <td>1</td>\n",
              "      <td>Clínica Médica</td>\n",
              "      <td>DDMMAA</td>\n",
              "      <td>Óbito após 48hs de internação sem necrópsia</td>\n",
              "    </tr>\n",
              "    <tr>\n",
              "      <th>2218</th>\n",
              "      <td>897570FE38BD3A3D72C84A3BB82E6EB8</td>\n",
              "      <td>2020-04-13</td>\n",
              "      <td>UTI</td>\n",
              "      <td>COVID-19-PCR para SARS-COV-2, Vários Materiais...</td>\n",
              "      <td>DETECTADO</td>\n",
              "      <td>M</td>\n",
              "      <td>1977</td>\n",
              "      <td>SP</td>\n",
              "      <td>MMMM</td>\n",
              "      <td>43</td>\n",
              "      <td>4</td>\n",
              "      <td>0.0</td>\n",
              "      <td>F080F45B11BE77EFD44E5F19FD55F44C</td>\n",
              "      <td>18/05/2020</td>\n",
              "      <td>Externo</td>\n",
              "      <td>20</td>\n",
              "      <td>Procedimentos</td>\n",
              "      <td>18/05/2020</td>\n",
              "      <td>Alta Administrativa</td>\n",
              "    </tr>\n",
              "    <tr>\n",
              "      <th>2219</th>\n",
              "      <td>897570FE38BD3A3D72C84A3BB82E6EB8</td>\n",
              "      <td>2020-04-13</td>\n",
              "      <td>UTI</td>\n",
              "      <td>COVID-19-PCR para SARS-COV-2, Vários Materiais...</td>\n",
              "      <td>DETECTADO</td>\n",
              "      <td>M</td>\n",
              "      <td>1977</td>\n",
              "      <td>SP</td>\n",
              "      <td>MMMM</td>\n",
              "      <td>43</td>\n",
              "      <td>4</td>\n",
              "      <td>0.0</td>\n",
              "      <td>11366A68523233CDD6397F88A0BC7A26</td>\n",
              "      <td>13/04/2020</td>\n",
              "      <td>Internado</td>\n",
              "      <td>1</td>\n",
              "      <td>Clínica Médica</td>\n",
              "      <td>18/04/2020</td>\n",
              "      <td>Alta médica melhorado</td>\n",
              "    </tr>\n",
              "  </tbody>\n",
              "</table>\n",
              "<p>279 rows × 19 columns</p>\n",
              "</div>"
            ],
            "text/plain": [
              "                           ID_PACIENTE  ...                                  DE_DESFECHO\n",
              "89    50EAE88A08F0733746E88F4E1ACFD8A4  ...                        Alta médica melhorado\n",
              "90    50EAE88A08F0733746E88F4E1ACFD8A4  ...                        Alta médica melhorado\n",
              "116   6F0A6A0E0839924AD125035171DD456F  ...                        Alta médica melhorado\n",
              "117   6F0A6A0E0839924AD125035171DD456F  ...                        Alta médica melhorado\n",
              "118   6F0A6A0E0839924AD125035171DD456F  ...                           Alta médica curado\n",
              "...                                ...  ...                                          ...\n",
              "2182  B36EE73FD954C998537979EE316F51D9  ...                        Alta médica melhorado\n",
              "2216  7B03A278AD0026D4E34D0D84453A3548  ...                          Alta Administrativa\n",
              "2217  7B03A278AD0026D4E34D0D84453A3548  ...  Óbito após 48hs de internação sem necrópsia\n",
              "2218  897570FE38BD3A3D72C84A3BB82E6EB8  ...                          Alta Administrativa\n",
              "2219  897570FE38BD3A3D72C84A3BB82E6EB8  ...                        Alta médica melhorado\n",
              "\n",
              "[279 rows x 19 columns]"
            ]
          },
          "metadata": {
            "tags": []
          },
          "execution_count": 220
        }
      ]
    }
  ]
}